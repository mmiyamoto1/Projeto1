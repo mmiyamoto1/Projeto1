{
 "cells": [
  {
   "cell_type": "markdown",
   "id": "6abe0e52",
   "metadata": {},
   "source": [
    "# READ ME\n",
    "\n",
    "This data set analysis is about diamonds' price evaluation,  based on the following parameters included in the data set, as described below:\n",
    "\n",
    "   * Carat - weight of the diamond\n",
    "   * Cut  - quality of the cut (Fair, Good, Very Good, Premium, Ideal)\n",
    "   * Color - diamond colour, from J (worst) to D (best)\n",
    "   * Clarity - a measurement of how clear the diamond is (I1 (worst), SI2, SI1, VS2, VS1, VVS2, VVS1, IF (best))\n",
    "   * X -  length in mm\n",
    "   * Y - width in mm\n",
    "   * Z - depth in m\n",
    "   * Depth - The height of a diamond\n",
    "   * Table - The width of the diamond’s table expressed as a percentage of its average diameter\n",
    "\n"
   ]
  },
  {
   "cell_type": "markdown",
   "id": "5e9c263f",
   "metadata": {},
   "source": [
    "# IMPORT LIBRARIES"
   ]
  },
  {
   "cell_type": "code",
   "execution_count": 67,
   "id": "07ddfca6",
   "metadata": {
    "ExecuteTime": {
     "end_time": "2022-07-10T06:30:41.505617Z",
     "start_time": "2022-07-10T06:30:41.499692Z"
    }
   },
   "outputs": [],
   "source": [
    "import pandas as pd\n",
    "import seaborn as sns\n",
    "import numpy as np\n",
    "import matplotlib as mpl\n",
    "from matplotlib import pyplot as plt, pylab as pylab\n",
    "from sklearn import *"
   ]
  },
  {
   "cell_type": "markdown",
   "id": "8347e7dd",
   "metadata": {},
   "source": [
    "# EXTRACT FILES\n",
    "* Loading the data set\n",
    "* What is inside this dataset?"
   ]
  },
  {
   "cell_type": "code",
   "execution_count": 97,
   "id": "a724bf52",
   "metadata": {
    "ExecuteTime": {
     "end_time": "2022-07-10T15:39:39.643284Z",
     "start_time": "2022-07-10T15:39:39.220982Z"
    },
    "scrolled": true
   },
   "outputs": [],
   "source": [
    "data_diamonds = pd.read_csv('data/asset-v1 IRONHACK+DAFT+202007_SAO+type@asset+block@diamonds.csv')\n"
   ]
  },
  {
   "cell_type": "code",
   "execution_count": 69,
   "id": "345c97d6",
   "metadata": {
    "ExecuteTime": {
     "end_time": "2022-07-10T06:30:44.835526Z",
     "start_time": "2022-07-10T06:30:44.808876Z"
    }
   },
   "outputs": [],
   "source": [
    "data_rick = pd.read_csv('data/asset-v1 IRONHACK+DAPT+202007_SAO+type@asset+block@rick_diamonds.csv')"
   ]
  },
  {
   "cell_type": "markdown",
   "id": "035fa22d",
   "metadata": {},
   "source": [
    "# DATA PROCESSING\n",
    "*   Dataset Overview (info, shape, head, describe)\n",
    "*   Data Cleaning (dealing with null values, drop, etc)\n",
    "*   Enconding categorial x numerical variables\n",
    "*   Ranking how important is a variable for the model"
   ]
  },
  {
   "cell_type": "code",
   "execution_count": null,
   "id": "72163fcf",
   "metadata": {
    "ExecuteTime": {
     "end_time": "2022-07-10T06:30:49.479380Z",
     "start_time": "2022-07-10T06:30:49.430482Z"
    },
    "scrolled": false
   },
   "outputs": [],
   "source": [
    "data_diamonds.describe()"
   ]
  },
  {
   "cell_type": "code",
   "execution_count": null,
   "id": "7ee52804",
   "metadata": {
    "ExecuteTime": {
     "end_time": "2022-07-10T06:30:53.751313Z",
     "start_time": "2022-07-10T06:30:53.668975Z"
    },
    "scrolled": true
   },
   "outputs": [],
   "source": [
    "data_diamonds.info()"
   ]
  },
  {
   "cell_type": "code",
   "execution_count": null,
   "id": "5c7d45e2",
   "metadata": {
    "ExecuteTime": {
     "end_time": "2022-07-10T06:30:55.448502Z",
     "start_time": "2022-07-10T06:30:55.408747Z"
    },
    "scrolled": true
   },
   "outputs": [],
   "source": [
    "data_rick.describe()"
   ]
  },
  {
   "cell_type": "code",
   "execution_count": null,
   "id": "109859bf",
   "metadata": {
    "ExecuteTime": {
     "end_time": "2022-07-10T03:46:44.740494Z",
     "start_time": "2022-07-10T03:46:44.721357Z"
    }
   },
   "outputs": [],
   "source": [
    "data_rick.info()"
   ]
  },
  {
   "cell_type": "markdown",
   "id": "a6d47140",
   "metadata": {},
   "source": [
    "# EXPLOTATORY ANALYSIS\n",
    "* Data comparison \n",
    "* Graphic visualization"
   ]
  },
  {
   "cell_type": "code",
   "execution_count": 7,
   "id": "4ef459ac",
   "metadata": {
    "ExecuteTime": {
     "end_time": "2022-07-10T06:04:45.551439Z",
     "start_time": "2022-07-10T06:04:45.544709Z"
    }
   },
   "outputs": [],
   "source": [
    "#finding total price mean\n",
    "data_diamonds['price'].mean()\n",
    "data_rick['price_predicted'] = data_diamonds['price'].mean() "
   ]
  },
  {
   "cell_type": "code",
   "execution_count": 73,
   "id": "7a24b2e3",
   "metadata": {
    "ExecuteTime": {
     "end_time": "2022-07-10T06:31:17.060272Z",
     "start_time": "2022-07-10T06:31:17.038471Z"
    },
    "scrolled": true
   },
   "outputs": [
    {
     "data": {
      "text/plain": [
       "3934.409644462607"
      ]
     },
     "execution_count": 73,
     "metadata": {},
     "output_type": "execute_result"
    }
   ],
   "source": [
    "data_diamonds['price'].mean()"
   ]
  },
  {
   "cell_type": "code",
   "execution_count": null,
   "id": "7a3e56ba",
   "metadata": {
    "ExecuteTime": {
     "end_time": "2022-07-10T03:47:06.858734Z",
     "start_time": "2022-07-10T03:47:06.824868Z"
    },
    "scrolled": false
   },
   "outputs": [],
   "source": [
    "# Checking nulls\n",
    "data_diamonds.isna().sum()"
   ]
  },
  {
   "cell_type": "code",
   "execution_count": 8,
   "id": "f4ac65cd",
   "metadata": {
    "ExecuteTime": {
     "end_time": "2022-07-10T06:05:18.113708Z",
     "start_time": "2022-07-10T06:05:18.043630Z"
    }
   },
   "outputs": [],
   "source": [
    "# dropping duplicated rows and filling nulls as '0 'value on ricks'data set \n",
    "# Transforming the data set using .mean() to .csv to check on diamonds' website\n",
    "data_rick = data_rick.drop_duplicates()\n",
    "data_rick = data_rick.fillna(0)\n",
    "data_rick.to_csv('data1/asset-v1 IRONHACK+DAPT+202007_SAO+type@asset+block@rick_diamonds.csv')\n"
   ]
  },
  {
   "cell_type": "code",
   "execution_count": 74,
   "id": "eb0e1f2e",
   "metadata": {
    "ExecuteTime": {
     "end_time": "2022-07-10T06:31:32.825548Z",
     "start_time": "2022-07-10T06:31:32.748499Z"
    },
    "scrolled": true
   },
   "outputs": [
    {
     "data": {
      "text/html": [
       "<div>\n",
       "<style scoped>\n",
       "    .dataframe tbody tr th:only-of-type {\n",
       "        vertical-align: middle;\n",
       "    }\n",
       "\n",
       "    .dataframe tbody tr th {\n",
       "        vertical-align: top;\n",
       "    }\n",
       "\n",
       "    .dataframe thead th {\n",
       "        text-align: right;\n",
       "    }\n",
       "</style>\n",
       "<table border=\"1\" class=\"dataframe\">\n",
       "  <thead>\n",
       "    <tr style=\"text-align: right;\">\n",
       "      <th></th>\n",
       "      <th>carat</th>\n",
       "      <th>depth</th>\n",
       "      <th>table</th>\n",
       "      <th>price</th>\n",
       "      <th>x</th>\n",
       "      <th>y</th>\n",
       "      <th>z</th>\n",
       "    </tr>\n",
       "  </thead>\n",
       "  <tbody>\n",
       "    <tr>\n",
       "      <th>count</th>\n",
       "      <td>48940.000000</td>\n",
       "      <td>48940.000000</td>\n",
       "      <td>48940.000000</td>\n",
       "      <td>48940.000000</td>\n",
       "      <td>48940.000000</td>\n",
       "      <td>48940.000000</td>\n",
       "      <td>48940.000000</td>\n",
       "    </tr>\n",
       "    <tr>\n",
       "      <th>mean</th>\n",
       "      <td>0.797817</td>\n",
       "      <td>61.751931</td>\n",
       "      <td>57.451161</td>\n",
       "      <td>3934.409644</td>\n",
       "      <td>5.730712</td>\n",
       "      <td>5.734333</td>\n",
       "      <td>3.538648</td>\n",
       "    </tr>\n",
       "    <tr>\n",
       "      <th>std</th>\n",
       "      <td>0.474126</td>\n",
       "      <td>1.430026</td>\n",
       "      <td>2.233450</td>\n",
       "      <td>3989.333861</td>\n",
       "      <td>1.121920</td>\n",
       "      <td>1.145344</td>\n",
       "      <td>0.706817</td>\n",
       "    </tr>\n",
       "    <tr>\n",
       "      <th>min</th>\n",
       "      <td>0.200000</td>\n",
       "      <td>43.000000</td>\n",
       "      <td>43.000000</td>\n",
       "      <td>326.000000</td>\n",
       "      <td>0.000000</td>\n",
       "      <td>0.000000</td>\n",
       "      <td>0.000000</td>\n",
       "    </tr>\n",
       "    <tr>\n",
       "      <th>25%</th>\n",
       "      <td>0.400000</td>\n",
       "      <td>61.000000</td>\n",
       "      <td>56.000000</td>\n",
       "      <td>949.000000</td>\n",
       "      <td>4.710000</td>\n",
       "      <td>4.720000</td>\n",
       "      <td>2.910000</td>\n",
       "    </tr>\n",
       "    <tr>\n",
       "      <th>50%</th>\n",
       "      <td>0.700000</td>\n",
       "      <td>61.800000</td>\n",
       "      <td>57.000000</td>\n",
       "      <td>2401.000000</td>\n",
       "      <td>5.690000</td>\n",
       "      <td>5.710000</td>\n",
       "      <td>3.520000</td>\n",
       "    </tr>\n",
       "    <tr>\n",
       "      <th>75%</th>\n",
       "      <td>1.040000</td>\n",
       "      <td>62.500000</td>\n",
       "      <td>59.000000</td>\n",
       "      <td>5331.250000</td>\n",
       "      <td>6.540000</td>\n",
       "      <td>6.540000</td>\n",
       "      <td>4.040000</td>\n",
       "    </tr>\n",
       "    <tr>\n",
       "      <th>max</th>\n",
       "      <td>5.010000</td>\n",
       "      <td>79.000000</td>\n",
       "      <td>95.000000</td>\n",
       "      <td>18823.000000</td>\n",
       "      <td>10.740000</td>\n",
       "      <td>58.900000</td>\n",
       "      <td>31.800000</td>\n",
       "    </tr>\n",
       "  </tbody>\n",
       "</table>\n",
       "</div>"
      ],
      "text/plain": [
       "              carat         depth         table         price             x  \\\n",
       "count  48940.000000  48940.000000  48940.000000  48940.000000  48940.000000   \n",
       "mean       0.797817     61.751931     57.451161   3934.409644      5.730712   \n",
       "std        0.474126      1.430026      2.233450   3989.333861      1.121920   \n",
       "min        0.200000     43.000000     43.000000    326.000000      0.000000   \n",
       "25%        0.400000     61.000000     56.000000    949.000000      4.710000   \n",
       "50%        0.700000     61.800000     57.000000   2401.000000      5.690000   \n",
       "75%        1.040000     62.500000     59.000000   5331.250000      6.540000   \n",
       "max        5.010000     79.000000     95.000000  18823.000000     10.740000   \n",
       "\n",
       "                  y             z  \n",
       "count  48940.000000  48940.000000  \n",
       "mean       5.734333      3.538648  \n",
       "std        1.145344      0.706817  \n",
       "min        0.000000      0.000000  \n",
       "25%        4.720000      2.910000  \n",
       "50%        5.710000      3.520000  \n",
       "75%        6.540000      4.040000  \n",
       "max       58.900000     31.800000  "
      ]
     },
     "execution_count": 74,
     "metadata": {},
     "output_type": "execute_result"
    }
   ],
   "source": [
    "#checking data_diamonds numeric values through describe method\n",
    "data_diamonds.describe()"
   ]
  },
  {
   "cell_type": "code",
   "execution_count": 75,
   "id": "e1c582e5",
   "metadata": {
    "ExecuteTime": {
     "end_time": "2022-07-10T06:31:37.337581Z",
     "start_time": "2022-07-10T06:31:37.163463Z"
    },
    "scrolled": false
   },
   "outputs": [
    {
     "name": "stderr",
     "output_type": "stream",
     "text": [
      "/opt/anaconda3/lib/python3.9/site-packages/seaborn/_decorators.py:36: FutureWarning: Pass the following variable as a keyword arg: x. From version 0.12, the only valid positional argument will be `data`, and passing other arguments without an explicit keyword will result in an error or misinterpretation.\n",
      "  warnings.warn(\n"
     ]
    },
    {
     "data": {
      "text/plain": [
       "<AxesSubplot:xlabel='price'>"
      ]
     },
     "execution_count": 75,
     "metadata": {},
     "output_type": "execute_result"
    },
    {
     "data": {
      "image/png": "[encoded data removed]",
      "text/plain": [
       "<Figure size 1440x288 with 1 Axes>"
      ]
     },
     "metadata": {
      "needs_background": "light"
     },
     "output_type": "display_data"
    }
   ],
   "source": [
    "# plotting boxplot to visualize price distribution\n",
    "fig, ax = plt.subplots(figsize=(20,4))\n",
    "sns.boxplot(data_diamonds['price'])"
   ]
  },
  {
   "cell_type": "markdown",
   "id": "ac8186a6",
   "metadata": {},
   "source": [
    "# MODEL TRAINING\n",
    "\n",
    "Using sklearn to train and test models:\n",
    "\n",
    "  * Setup for features and targets\n",
    "  * Standard scalar and model regressors\n",
    "  * Fitting models on training data\n",
    "  * Checking how important each variable is for the model\n"
   ]
  },
  {
   "cell_type": "code",
   "execution_count": 77,
   "id": "fde83dba",
   "metadata": {
    "ExecuteTime": {
     "end_time": "2022-07-10T06:31:41.490208Z",
     "start_time": "2022-07-10T06:31:41.470678Z"
    }
   },
   "outputs": [
    {
     "data": {
      "text/plain": [
       "array([-626.66761002, -471.48055449,   -5.91938791, ..., 3330.60230596,\n",
       "       3175.41525043, 3563.38288926])"
      ]
     },
     "execution_count": 77,
     "metadata": {},
     "output_type": "execute_result"
    }
   ],
   "source": [
    "#import proper library\n",
    "# verifying price prefiction according to 'carat' parameter variation\n",
    "from sklearn.linear_model import LinearRegression\n",
    "X = data_diamonds[['carat']]\n",
    "y = data_diamonds['price']\n",
    "model = LinearRegression()\n",
    "model.fit(X,y)\n",
    "x_all = X\n",
    "y_pred1_all = model.predict(x_all)\n",
    "y_pred1_all\n"
   ]
  },
  {
   "cell_type": "code",
   "execution_count": 78,
   "id": "2e0c777c",
   "metadata": {
    "ExecuteTime": {
     "end_time": "2022-07-10T06:31:44.387653Z",
     "start_time": "2022-07-10T06:31:44.070824Z"
    },
    "scrolled": false
   },
   "outputs": [
    {
     "data": {
      "image/png": "[encoded data removed]",
      "text/plain": [
       "<Figure size 576x432 with 1 Axes>"
      ]
     },
     "metadata": {
      "needs_background": "light"
     },
     "output_type": "display_data"
    }
   ],
   "source": [
    "# plotting most correlated 'price' x 'carat' linear regression graphic:\n",
    "plt.figure(figsize=(8,6))\n",
    "plt.plot(data_diamonds['carat'],data_diamonds['price'])\n",
    "plt.scatter(x_all,y_pred1_all, color='red')\n",
    "plt.xlabel('Carat')\n",
    "plt.ylabel('Price')\n",
    "plt.show()\n"
   ]
  },
  {
   "cell_type": "markdown",
   "id": "d285e368",
   "metadata": {},
   "source": [
    "# DEPLOY"
   ]
  },
  {
   "cell_type": "code",
   "execution_count": 98,
   "id": "9659a379",
   "metadata": {
    "ExecuteTime": {
     "end_time": "2022-07-10T15:40:23.818141Z",
     "start_time": "2022-07-10T15:40:23.720980Z"
    }
   },
   "outputs": [],
   "source": [
    "# Transforming the data set using 'price' x 'carat'linear regression to .csv to check on diamonds' websited\n",
    "# pd.Series was used on y prediction in order to fill missed rows with Nan\n",
    "# A greater error was found in comparison to data set where mean was used\n",
    "data_rick['price_predicted'] = pd.Series(y_pred1_all)\n",
    "data_rick.to_csv('data1/asset-v1 IRONHACK+DAPT+202007_SAO+type@asset+block@rick_diamonds.csv')"
   ]
  },
  {
   "cell_type": "markdown",
   "id": "b8fc7489",
   "metadata": {},
   "source": [
    "# DATA TRANSFORMING and  reapplying MODEL TRAINING\n",
    "* Convert categories to numerics to check correlations between parameters\n",
    "* apply model training"
   ]
  },
  {
   "cell_type": "code",
   "execution_count": 167,
   "id": "0be0aa76",
   "metadata": {
    "ExecuteTime": {
     "end_time": "2022-07-10T16:48:49.513799Z",
     "start_time": "2022-07-10T16:48:49.454075Z"
    }
   },
   "outputs": [],
   "source": [
    "# Transforming categories to numerics on 'clarity' parameter:\n",
    "# Clarity - a measurement of how clear the diamond is (I1 (worst), SI2, SI1, VS2, VS1, VVS2, VVS1, IF (best)).\n",
    "# From worst to best clarity, numerics (1 to 8).\n",
    "\n",
    "data_diamonds['clarity'] = data_diamonds['clarity'].astype(str).replace('I1','8').replace('SI2','1').replace('SI1','2').replace('VS2','3').replace('VS1','4').replace('VVS2','5').replace('VVS1','6').replace('IF','7').astype(int)\n"
   ]
  },
  {
   "cell_type": "code",
   "execution_count": 168,
   "id": "0ce4b147",
   "metadata": {
    "ExecuteTime": {
     "end_time": "2022-07-10T16:48:50.465172Z",
     "start_time": "2022-07-10T16:48:50.415858Z"
    }
   },
   "outputs": [],
   "source": [
    "# Transforming categories to numerics on 'cut' parameter:\n",
    "# Cut - quality of the cut (Fair, Good, Very Good, Premium, Ideal)\n",
    "# # From worst to best cut, numerics (1 to 5).\n",
    "data_diamonds['cut'] = data_diamonds['cut'].astype(str).replace('Fair','1').replace('Good','2').replace('Very Good','3').replace('Premium','4').replace('Ideal','5').astype(int)"
   ]
  },
  {
   "cell_type": "code",
   "execution_count": 169,
   "id": "dc48a182",
   "metadata": {
    "ExecuteTime": {
     "end_time": "2022-07-10T16:48:51.390471Z",
     "start_time": "2022-07-10T16:48:51.325021Z"
    }
   },
   "outputs": [],
   "source": [
    "# Transforming categories to numerics on 'color' parameter:\n",
    "# Color - diamond colour, from J (worst) to D (best).\n",
    "# # From worst to best cut, numerics (1 to 5).\n",
    "data_diamonds['color'] = data_diamonds['color'].astype(str).replace('J','1').replace('I','2').replace('H','3').replace('G','4').replace('F','5').replace('E','6').replace('D','7').astype(int)"
   ]
  },
  {
   "cell_type": "code",
   "execution_count": 170,
   "id": "50a50cf5",
   "metadata": {
    "ExecuteTime": {
     "end_time": "2022-07-10T16:48:52.404931Z",
     "start_time": "2022-07-10T16:48:52.377470Z"
    },
    "scrolled": false
   },
   "outputs": [
    {
     "data": {
      "text/html": [
       "<div>\n",
       "<style scoped>\n",
       "    .dataframe tbody tr th:only-of-type {\n",
       "        vertical-align: middle;\n",
       "    }\n",
       "\n",
       "    .dataframe tbody tr th {\n",
       "        vertical-align: top;\n",
       "    }\n",
       "\n",
       "    .dataframe thead th {\n",
       "        text-align: right;\n",
       "    }\n",
       "</style>\n",
       "<table border=\"1\" class=\"dataframe\">\n",
       "  <thead>\n",
       "    <tr style=\"text-align: right;\">\n",
       "      <th></th>\n",
       "      <th>carat</th>\n",
       "      <th>cut</th>\n",
       "      <th>color</th>\n",
       "      <th>clarity</th>\n",
       "      <th>depth</th>\n",
       "      <th>table</th>\n",
       "      <th>price</th>\n",
       "      <th>x</th>\n",
       "      <th>y</th>\n",
       "      <th>z</th>\n",
       "    </tr>\n",
       "  </thead>\n",
       "  <tbody>\n",
       "    <tr>\n",
       "      <th>25152</th>\n",
       "      <td>2.29</td>\n",
       "      <td>4</td>\n",
       "      <td>2</td>\n",
       "      <td>3</td>\n",
       "      <td>60.8</td>\n",
       "      <td>60.0</td>\n",
       "      <td>18823</td>\n",
       "      <td>8.50</td>\n",
       "      <td>8.47</td>\n",
       "      <td>5.16</td>\n",
       "    </tr>\n",
       "    <tr>\n",
       "      <th>25151</th>\n",
       "      <td>2.00</td>\n",
       "      <td>3</td>\n",
       "      <td>4</td>\n",
       "      <td>2</td>\n",
       "      <td>63.5</td>\n",
       "      <td>56.0</td>\n",
       "      <td>18818</td>\n",
       "      <td>7.90</td>\n",
       "      <td>7.97</td>\n",
       "      <td>5.04</td>\n",
       "    </tr>\n",
       "    <tr>\n",
       "      <th>25150</th>\n",
       "      <td>1.51</td>\n",
       "      <td>5</td>\n",
       "      <td>4</td>\n",
       "      <td>7</td>\n",
       "      <td>61.7</td>\n",
       "      <td>55.0</td>\n",
       "      <td>18806</td>\n",
       "      <td>7.37</td>\n",
       "      <td>7.41</td>\n",
       "      <td>4.56</td>\n",
       "    </tr>\n",
       "    <tr>\n",
       "      <th>25149</th>\n",
       "      <td>2.07</td>\n",
       "      <td>5</td>\n",
       "      <td>4</td>\n",
       "      <td>1</td>\n",
       "      <td>62.5</td>\n",
       "      <td>55.0</td>\n",
       "      <td>18804</td>\n",
       "      <td>8.20</td>\n",
       "      <td>8.13</td>\n",
       "      <td>5.11</td>\n",
       "    </tr>\n",
       "    <tr>\n",
       "      <th>25148</th>\n",
       "      <td>2.00</td>\n",
       "      <td>3</td>\n",
       "      <td>3</td>\n",
       "      <td>2</td>\n",
       "      <td>62.8</td>\n",
       "      <td>57.0</td>\n",
       "      <td>18803</td>\n",
       "      <td>7.95</td>\n",
       "      <td>8.00</td>\n",
       "      <td>5.01</td>\n",
       "    </tr>\n",
       "    <tr>\n",
       "      <th>25147</th>\n",
       "      <td>2.29</td>\n",
       "      <td>4</td>\n",
       "      <td>2</td>\n",
       "      <td>2</td>\n",
       "      <td>61.8</td>\n",
       "      <td>59.0</td>\n",
       "      <td>18797</td>\n",
       "      <td>8.52</td>\n",
       "      <td>8.45</td>\n",
       "      <td>5.24</td>\n",
       "    </tr>\n",
       "    <tr>\n",
       "      <th>25146</th>\n",
       "      <td>2.04</td>\n",
       "      <td>4</td>\n",
       "      <td>3</td>\n",
       "      <td>2</td>\n",
       "      <td>58.1</td>\n",
       "      <td>60.0</td>\n",
       "      <td>18795</td>\n",
       "      <td>8.37</td>\n",
       "      <td>8.28</td>\n",
       "      <td>4.84</td>\n",
       "    </tr>\n",
       "    <tr>\n",
       "      <th>25145</th>\n",
       "      <td>2.15</td>\n",
       "      <td>5</td>\n",
       "      <td>4</td>\n",
       "      <td>1</td>\n",
       "      <td>62.6</td>\n",
       "      <td>54.0</td>\n",
       "      <td>18791</td>\n",
       "      <td>8.29</td>\n",
       "      <td>8.35</td>\n",
       "      <td>5.21</td>\n",
       "    </tr>\n",
       "    <tr>\n",
       "      <th>25144</th>\n",
       "      <td>1.71</td>\n",
       "      <td>4</td>\n",
       "      <td>5</td>\n",
       "      <td>3</td>\n",
       "      <td>62.3</td>\n",
       "      <td>59.0</td>\n",
       "      <td>18791</td>\n",
       "      <td>7.57</td>\n",
       "      <td>7.53</td>\n",
       "      <td>4.70</td>\n",
       "    </tr>\n",
       "    <tr>\n",
       "      <th>25143</th>\n",
       "      <td>2.80</td>\n",
       "      <td>2</td>\n",
       "      <td>4</td>\n",
       "      <td>1</td>\n",
       "      <td>63.8</td>\n",
       "      <td>58.0</td>\n",
       "      <td>18788</td>\n",
       "      <td>8.90</td>\n",
       "      <td>8.85</td>\n",
       "      <td>0.00</td>\n",
       "    </tr>\n",
       "  </tbody>\n",
       "</table>\n",
       "</div>"
      ],
      "text/plain": [
       "       carat  cut  color  clarity  depth  table  price     x     y     z\n",
       "25152   2.29    4      2        3   60.8   60.0  18823  8.50  8.47  5.16\n",
       "25151   2.00    3      4        2   63.5   56.0  18818  7.90  7.97  5.04\n",
       "25150   1.51    5      4        7   61.7   55.0  18806  7.37  7.41  4.56\n",
       "25149   2.07    5      4        1   62.5   55.0  18804  8.20  8.13  5.11\n",
       "25148   2.00    3      3        2   62.8   57.0  18803  7.95  8.00  5.01\n",
       "25147   2.29    4      2        2   61.8   59.0  18797  8.52  8.45  5.24\n",
       "25146   2.04    4      3        2   58.1   60.0  18795  8.37  8.28  4.84\n",
       "25145   2.15    5      4        1   62.6   54.0  18791  8.29  8.35  5.21\n",
       "25144   1.71    4      5        3   62.3   59.0  18791  7.57  7.53  4.70\n",
       "25143   2.80    2      4        1   63.8   58.0  18788  8.90  8.85  0.00"
      ]
     },
     "execution_count": 170,
     "metadata": {},
     "output_type": "execute_result"
    }
   ],
   "source": [
    "# Checking data set after transforming\n",
    "data_diamonds.sort_values('price', ascending=False).head(10)\n"
   ]
  },
  {
   "cell_type": "code",
   "execution_count": 171,
   "id": "ff0effef",
   "metadata": {
    "ExecuteTime": {
     "end_time": "2022-07-10T16:48:56.417448Z",
     "start_time": "2022-07-10T16:48:56.355632Z"
    },
    "scrolled": false
   },
   "outputs": [
    {
     "data": {
      "text/html": [
       "<div>\n",
       "<style scoped>\n",
       "    .dataframe tbody tr th:only-of-type {\n",
       "        vertical-align: middle;\n",
       "    }\n",
       "\n",
       "    .dataframe tbody tr th {\n",
       "        vertical-align: top;\n",
       "    }\n",
       "\n",
       "    .dataframe thead th {\n",
       "        text-align: right;\n",
       "    }\n",
       "</style>\n",
       "<table border=\"1\" class=\"dataframe\">\n",
       "  <thead>\n",
       "    <tr style=\"text-align: right;\">\n",
       "      <th></th>\n",
       "      <th>carat</th>\n",
       "      <th>cut</th>\n",
       "      <th>color</th>\n",
       "      <th>clarity</th>\n",
       "      <th>depth</th>\n",
       "      <th>table</th>\n",
       "      <th>price</th>\n",
       "      <th>x</th>\n",
       "      <th>y</th>\n",
       "      <th>z</th>\n",
       "    </tr>\n",
       "  </thead>\n",
       "  <tbody>\n",
       "    <tr>\n",
       "      <th>carat</th>\n",
       "      <td>1.000000</td>\n",
       "      <td>-0.136218</td>\n",
       "      <td>-0.292021</td>\n",
       "      <td>-0.277350</td>\n",
       "      <td>0.027074</td>\n",
       "      <td>0.181688</td>\n",
       "      <td>0.922186</td>\n",
       "      <td>0.975152</td>\n",
       "      <td>0.949687</td>\n",
       "      <td>0.951824</td>\n",
       "    </tr>\n",
       "    <tr>\n",
       "      <th>cut</th>\n",
       "      <td>-0.136218</td>\n",
       "      <td>1.000000</td>\n",
       "      <td>0.020318</td>\n",
       "      <td>0.131189</td>\n",
       "      <td>-0.220066</td>\n",
       "      <td>-0.431738</td>\n",
       "      <td>-0.055150</td>\n",
       "      <td>-0.127095</td>\n",
       "      <td>-0.122565</td>\n",
       "      <td>-0.150714</td>\n",
       "    </tr>\n",
       "    <tr>\n",
       "      <th>color</th>\n",
       "      <td>-0.292021</td>\n",
       "      <td>0.020318</td>\n",
       "      <td>1.000000</td>\n",
       "      <td>-0.040028</td>\n",
       "      <td>-0.046302</td>\n",
       "      <td>-0.027476</td>\n",
       "      <td>-0.173129</td>\n",
       "      <td>-0.270637</td>\n",
       "      <td>-0.263387</td>\n",
       "      <td>-0.268071</td>\n",
       "    </tr>\n",
       "    <tr>\n",
       "      <th>clarity</th>\n",
       "      <td>-0.277350</td>\n",
       "      <td>0.131189</td>\n",
       "      <td>-0.040028</td>\n",
       "      <td>1.000000</td>\n",
       "      <td>-0.020668</td>\n",
       "      <td>-0.131239</td>\n",
       "      <td>-0.143724</td>\n",
       "      <td>-0.302339</td>\n",
       "      <td>-0.292543</td>\n",
       "      <td>-0.294529</td>\n",
       "    </tr>\n",
       "    <tr>\n",
       "      <th>depth</th>\n",
       "      <td>0.027074</td>\n",
       "      <td>-0.220066</td>\n",
       "      <td>-0.046302</td>\n",
       "      <td>-0.020668</td>\n",
       "      <td>1.000000</td>\n",
       "      <td>-0.297123</td>\n",
       "      <td>-0.012037</td>\n",
       "      <td>-0.025858</td>\n",
       "      <td>-0.029903</td>\n",
       "      <td>0.094344</td>\n",
       "    </tr>\n",
       "    <tr>\n",
       "      <th>table</th>\n",
       "      <td>0.181688</td>\n",
       "      <td>-0.431738</td>\n",
       "      <td>-0.027476</td>\n",
       "      <td>-0.131239</td>\n",
       "      <td>-0.297123</td>\n",
       "      <td>1.000000</td>\n",
       "      <td>0.127832</td>\n",
       "      <td>0.195367</td>\n",
       "      <td>0.183362</td>\n",
       "      <td>0.150646</td>\n",
       "    </tr>\n",
       "    <tr>\n",
       "      <th>price</th>\n",
       "      <td>0.922186</td>\n",
       "      <td>-0.055150</td>\n",
       "      <td>-0.173129</td>\n",
       "      <td>-0.143724</td>\n",
       "      <td>-0.012037</td>\n",
       "      <td>0.127832</td>\n",
       "      <td>1.000000</td>\n",
       "      <td>0.885019</td>\n",
       "      <td>0.864059</td>\n",
       "      <td>0.860247</td>\n",
       "    </tr>\n",
       "    <tr>\n",
       "      <th>x</th>\n",
       "      <td>0.975152</td>\n",
       "      <td>-0.127095</td>\n",
       "      <td>-0.270637</td>\n",
       "      <td>-0.302339</td>\n",
       "      <td>-0.025858</td>\n",
       "      <td>0.195367</td>\n",
       "      <td>0.885019</td>\n",
       "      <td>1.000000</td>\n",
       "      <td>0.972447</td>\n",
       "      <td>0.969336</td>\n",
       "    </tr>\n",
       "    <tr>\n",
       "      <th>y</th>\n",
       "      <td>0.949687</td>\n",
       "      <td>-0.122565</td>\n",
       "      <td>-0.263387</td>\n",
       "      <td>-0.292543</td>\n",
       "      <td>-0.029903</td>\n",
       "      <td>0.183362</td>\n",
       "      <td>0.864059</td>\n",
       "      <td>0.972447</td>\n",
       "      <td>1.000000</td>\n",
       "      <td>0.948768</td>\n",
       "    </tr>\n",
       "    <tr>\n",
       "      <th>z</th>\n",
       "      <td>0.951824</td>\n",
       "      <td>-0.150714</td>\n",
       "      <td>-0.268071</td>\n",
       "      <td>-0.294529</td>\n",
       "      <td>0.094344</td>\n",
       "      <td>0.150646</td>\n",
       "      <td>0.860247</td>\n",
       "      <td>0.969336</td>\n",
       "      <td>0.948768</td>\n",
       "      <td>1.000000</td>\n",
       "    </tr>\n",
       "  </tbody>\n",
       "</table>\n",
       "</div>"
      ],
      "text/plain": [
       "            carat       cut     color   clarity     depth     table     price  \\\n",
       "carat    1.000000 -0.136218 -0.292021 -0.277350  0.027074  0.181688  0.922186   \n",
       "cut     -0.136218  1.000000  0.020318  0.131189 -0.220066 -0.431738 -0.055150   \n",
       "color   -0.292021  0.020318  1.000000 -0.040028 -0.046302 -0.027476 -0.173129   \n",
       "clarity -0.277350  0.131189 -0.040028  1.000000 -0.020668 -0.131239 -0.143724   \n",
       "depth    0.027074 -0.220066 -0.046302 -0.020668  1.000000 -0.297123 -0.012037   \n",
       "table    0.181688 -0.431738 -0.027476 -0.131239 -0.297123  1.000000  0.127832   \n",
       "price    0.922186 -0.055150 -0.173129 -0.143724 -0.012037  0.127832  1.000000   \n",
       "x        0.975152 -0.127095 -0.270637 -0.302339 -0.025858  0.195367  0.885019   \n",
       "y        0.949687 -0.122565 -0.263387 -0.292543 -0.029903  0.183362  0.864059   \n",
       "z        0.951824 -0.150714 -0.268071 -0.294529  0.094344  0.150646  0.860247   \n",
       "\n",
       "                x         y         z  \n",
       "carat    0.975152  0.949687  0.951824  \n",
       "cut     -0.127095 -0.122565 -0.150714  \n",
       "color   -0.270637 -0.263387 -0.268071  \n",
       "clarity -0.302339 -0.292543 -0.294529  \n",
       "depth   -0.025858 -0.029903  0.094344  \n",
       "table    0.195367  0.183362  0.150646  \n",
       "price    0.885019  0.864059  0.860247  \n",
       "x        1.000000  0.972447  0.969336  \n",
       "y        0.972447  1.000000  0.948768  \n",
       "z        0.969336  0.948768  1.000000  "
      ]
     },
     "execution_count": 171,
     "metadata": {},
     "output_type": "execute_result"
    }
   ],
   "source": [
    "#Checking correlations between all parameters\n",
    "#Higher correlations were found from price by carat,x,y and z parameters\n",
    "data_diamonds.corr()"
   ]
  },
  {
   "cell_type": "code",
   "execution_count": 172,
   "id": "6b1fb711",
   "metadata": {
    "ExecuteTime": {
     "end_time": "2022-07-10T16:48:58.117348Z",
     "start_time": "2022-07-10T16:48:58.098114Z"
    }
   },
   "outputs": [
    {
     "data": {
      "text/plain": [
       "LinearRegression()"
      ]
     },
     "execution_count": 172,
     "metadata": {},
     "output_type": "execute_result"
    }
   ],
   "source": [
    "# Apply multiple linear regression using chosen parameters with y = 'price' \n",
    "X = data_diamonds[['carat','x','y','z']]\n",
    "y = data_diamonds['price']\n",
    "model = LinearRegression()\n",
    "model.fit(X,y)\n"
   ]
  },
  {
   "cell_type": "code",
   "execution_count": 173,
   "id": "92d31837",
   "metadata": {
    "ExecuteTime": {
     "end_time": "2022-07-10T16:49:01.286463Z",
     "start_time": "2022-07-10T16:49:01.275383Z"
    }
   },
   "outputs": [
    {
     "data": {
      "text/plain": [
       "array([10241.96217333,  -884.55877431,   148.47196517,  -551.18655735])"
      ]
     },
     "execution_count": 173,
     "metadata": {},
     "output_type": "execute_result"
    }
   ],
   "source": [
    "#checking coeficient\n",
    "model.coef_"
   ]
  },
  {
   "cell_type": "code",
   "execution_count": 174,
   "id": "4917e9ca",
   "metadata": {
    "ExecuteTime": {
     "end_time": "2022-07-10T16:49:02.806186Z",
     "start_time": "2022-07-10T16:49:02.797546Z"
    },
    "scrolled": true
   },
   "outputs": [
    {
     "data": {
      "text/plain": [
       "1931.4198240020933"
      ]
     },
     "execution_count": 174,
     "metadata": {},
     "output_type": "execute_result"
    }
   ],
   "source": [
    "#cheking intercept\n",
    "model.intercept_"
   ]
  },
  {
   "cell_type": "markdown",
   "id": "28437b5f",
   "metadata": {
    "ExecuteTime": {
     "end_time": "2022-07-10T15:45:22.871491Z",
     "start_time": "2022-07-10T15:45:22.867532Z"
    }
   },
   "source": [
    "# STANDARIZATION\n",
    "* standarize X parameters to let all at same scale to apply  multiple linear regression\n",
    "* apply model training"
   ]
  },
  {
   "cell_type": "code",
   "execution_count": 175,
   "id": "de2502a4",
   "metadata": {
    "ExecuteTime": {
     "end_time": "2022-07-10T16:49:06.190389Z",
     "start_time": "2022-07-10T16:49:06.183433Z"
    }
   },
   "outputs": [],
   "source": [
    "# Import proper sklearn libraries for standarization\n",
    "from sklearn.metrics import mean_squared_error\n",
    "from sklearn.metrics import r2_score\n",
    "from sklearn.preprocessing import StandardScaler"
   ]
  },
  {
   "cell_type": "code",
   "execution_count": 176,
   "id": "a9ab885f",
   "metadata": {
    "ExecuteTime": {
     "end_time": "2022-07-10T16:49:07.227142Z",
     "start_time": "2022-07-10T16:49:07.213752Z"
    },
    "scrolled": true
   },
   "outputs": [
    {
     "data": {
      "text/plain": [
       "StandardScaler()"
      ]
     },
     "execution_count": 176,
     "metadata": {},
     "output_type": "execute_result"
    }
   ],
   "source": [
    "# Instance scaler\n",
    "scaler = StandardScaler()\n",
    "scaler.fit(X)"
   ]
  },
  {
   "cell_type": "code",
   "execution_count": 177,
   "id": "877699cb",
   "metadata": {
    "ExecuteTime": {
     "end_time": "2022-07-10T16:49:08.715277Z",
     "start_time": "2022-07-10T16:49:08.697704Z"
    }
   },
   "outputs": [
    {
     "data": {
      "text/plain": [
       "LinearRegression()"
      ]
     },
     "execution_count": 177,
     "metadata": {},
     "output_type": "execute_result"
    }
   ],
   "source": [
    "# Standarize X  and fit model\n",
    "X_std = scaler.transform(X)\n",
    "model = LinearRegression()\n",
    "model.fit(X_std,y)"
   ]
  },
  {
   "cell_type": "code",
   "execution_count": 178,
   "id": "b824443c",
   "metadata": {
    "ExecuteTime": {
     "end_time": "2022-07-10T16:49:09.878384Z",
     "start_time": "2022-07-10T16:49:09.870323Z"
    }
   },
   "outputs": [
    {
     "data": {
      "text/plain": [
       "array([4855.92653364, -992.39434502,  170.04969302, -389.58381447])"
      ]
     },
     "execution_count": 178,
     "metadata": {},
     "output_type": "execute_result"
    }
   ],
   "source": [
    "model.coef_"
   ]
  },
  {
   "cell_type": "code",
   "execution_count": 179,
   "id": "a11fa622",
   "metadata": {
    "ExecuteTime": {
     "end_time": "2022-07-10T16:49:11.649943Z",
     "start_time": "2022-07-10T16:49:11.627807Z"
    }
   },
   "outputs": [
    {
     "data": {
      "text/plain": [
       "3934.4096444626057"
      ]
     },
     "execution_count": 179,
     "metadata": {},
     "output_type": "execute_result"
    }
   ],
   "source": [
    "model.intercept_"
   ]
  },
  {
   "cell_type": "code",
   "execution_count": 180,
   "id": "ef1d18d5",
   "metadata": {
    "ExecuteTime": {
     "end_time": "2022-07-10T16:49:12.815113Z",
     "start_time": "2022-07-10T16:49:12.796089Z"
    },
    "scrolled": true
   },
   "outputs": [
    {
     "data": {
      "text/plain": [
       "0.8551826548717094"
      ]
     },
     "execution_count": 180,
     "metadata": {},
     "output_type": "execute_result"
    }
   ],
   "source": [
    "# check the coeficient error using score method\n",
    "model.score(X_std,y)"
   ]
  },
  {
   "cell_type": "code",
   "execution_count": 181,
   "id": "72cc9bca",
   "metadata": {
    "ExecuteTime": {
     "end_time": "2022-07-10T16:49:14.249285Z",
     "start_time": "2022-07-10T16:49:14.238092Z"
    },
    "scrolled": true
   },
   "outputs": [
    {
     "data": {
      "text/plain": [
       "array([ -61.81035291,   35.64803866,  364.85776899, ..., 3136.42349064,\n",
       "       2975.28730071, 3321.12516654])"
      ]
     },
     "execution_count": 181,
     "metadata": {},
     "output_type": "execute_result"
    }
   ],
   "source": [
    "# check predicted price after standarization\n",
    "x_all = X_std\n",
    "y_pred_std_all = model.predict(x_all)\n",
    "y_pred_std_all\n"
   ]
  },
  {
   "cell_type": "markdown",
   "id": "24161d97",
   "metadata": {},
   "source": [
    "# REDEPLOY"
   ]
  },
  {
   "cell_type": "code",
   "execution_count": 183,
   "id": "6f458d67",
   "metadata": {
    "ExecuteTime": {
     "end_time": "2022-07-10T16:49:18.865911Z",
     "start_time": "2022-07-10T16:49:18.836874Z"
    },
    "scrolled": true
   },
   "outputs": [
    {
     "data": {
      "text/html": [
       "<div>\n",
       "<style scoped>\n",
       "    .dataframe tbody tr th:only-of-type {\n",
       "        vertical-align: middle;\n",
       "    }\n",
       "\n",
       "    .dataframe tbody tr th {\n",
       "        vertical-align: top;\n",
       "    }\n",
       "\n",
       "    .dataframe thead th {\n",
       "        text-align: right;\n",
       "    }\n",
       "</style>\n",
       "<table border=\"1\" class=\"dataframe\">\n",
       "  <thead>\n",
       "    <tr style=\"text-align: right;\">\n",
       "      <th></th>\n",
       "      <th>carat</th>\n",
       "      <th>cut</th>\n",
       "      <th>color</th>\n",
       "      <th>clarity</th>\n",
       "      <th>depth</th>\n",
       "      <th>table</th>\n",
       "      <th>x</th>\n",
       "      <th>y</th>\n",
       "      <th>z</th>\n",
       "      <th>price_predicted</th>\n",
       "    </tr>\n",
       "  </thead>\n",
       "  <tbody>\n",
       "    <tr>\n",
       "      <th>0</th>\n",
       "      <td>0.91</td>\n",
       "      <td>Very Good</td>\n",
       "      <td>H</td>\n",
       "      <td>SI2</td>\n",
       "      <td>63.4</td>\n",
       "      <td>57.0</td>\n",
       "      <td>6.10</td>\n",
       "      <td>6.18</td>\n",
       "      <td>3.89</td>\n",
       "      <td>-61.810353</td>\n",
       "    </tr>\n",
       "    <tr>\n",
       "      <th>1</th>\n",
       "      <td>0.38</td>\n",
       "      <td>Good</td>\n",
       "      <td>F</td>\n",
       "      <td>VS2</td>\n",
       "      <td>60.3</td>\n",
       "      <td>61.0</td>\n",
       "      <td>4.68</td>\n",
       "      <td>4.71</td>\n",
       "      <td>2.83</td>\n",
       "      <td>35.648039</td>\n",
       "    </tr>\n",
       "    <tr>\n",
       "      <th>2</th>\n",
       "      <td>0.52</td>\n",
       "      <td>Ideal</td>\n",
       "      <td>H</td>\n",
       "      <td>VS2</td>\n",
       "      <td>61.8</td>\n",
       "      <td>56.0</td>\n",
       "      <td>5.19</td>\n",
       "      <td>5.16</td>\n",
       "      <td>3.20</td>\n",
       "      <td>364.857769</td>\n",
       "    </tr>\n",
       "    <tr>\n",
       "      <th>3</th>\n",
       "      <td>1.10</td>\n",
       "      <td>Ideal</td>\n",
       "      <td>G</td>\n",
       "      <td>VS1</td>\n",
       "      <td>61.3</td>\n",
       "      <td>56.0</td>\n",
       "      <td>6.65</td>\n",
       "      <td>6.69</td>\n",
       "      <td>4.09</td>\n",
       "      <td>397.533033</td>\n",
       "    </tr>\n",
       "    <tr>\n",
       "      <th>4</th>\n",
       "      <td>2.28</td>\n",
       "      <td>Ideal</td>\n",
       "      <td>G</td>\n",
       "      <td>SI2</td>\n",
       "      <td>61.6</td>\n",
       "      <td>57.0</td>\n",
       "      <td>8.44</td>\n",
       "      <td>8.37</td>\n",
       "      <td>5.18</td>\n",
       "      <td>125.335495</td>\n",
       "    </tr>\n",
       "    <tr>\n",
       "      <th>...</th>\n",
       "      <td>...</td>\n",
       "      <td>...</td>\n",
       "      <td>...</td>\n",
       "      <td>...</td>\n",
       "      <td>...</td>\n",
       "      <td>...</td>\n",
       "      <td>...</td>\n",
       "      <td>...</td>\n",
       "      <td>...</td>\n",
       "      <td>...</td>\n",
       "    </tr>\n",
       "    <tr>\n",
       "      <th>4995</th>\n",
       "      <td>0.30</td>\n",
       "      <td>Very Good</td>\n",
       "      <td>D</td>\n",
       "      <td>SI2</td>\n",
       "      <td>62.2</td>\n",
       "      <td>59.0</td>\n",
       "      <td>4.25</td>\n",
       "      <td>4.30</td>\n",
       "      <td>2.66</td>\n",
       "      <td>4486.218076</td>\n",
       "    </tr>\n",
       "    <tr>\n",
       "      <th>4996</th>\n",
       "      <td>0.51</td>\n",
       "      <td>Ideal</td>\n",
       "      <td>F</td>\n",
       "      <td>VVS2</td>\n",
       "      <td>61.9</td>\n",
       "      <td>56.0</td>\n",
       "      <td>5.09</td>\n",
       "      <td>5.14</td>\n",
       "      <td>3.16</td>\n",
       "      <td>6072.898695</td>\n",
       "    </tr>\n",
       "    <tr>\n",
       "      <th>4997</th>\n",
       "      <td>1.01</td>\n",
       "      <td>Very Good</td>\n",
       "      <td>F</td>\n",
       "      <td>SI1</td>\n",
       "      <td>60.6</td>\n",
       "      <td>60.0</td>\n",
       "      <td>6.37</td>\n",
       "      <td>6.43</td>\n",
       "      <td>3.88</td>\n",
       "      <td>4508.298842</td>\n",
       "    </tr>\n",
       "    <tr>\n",
       "      <th>4998</th>\n",
       "      <td>0.31</td>\n",
       "      <td>Ideal</td>\n",
       "      <td>F</td>\n",
       "      <td>VVS1</td>\n",
       "      <td>62.1</td>\n",
       "      <td>56.0</td>\n",
       "      <td>4.35</td>\n",
       "      <td>4.38</td>\n",
       "      <td>2.71</td>\n",
       "      <td>4615.172623</td>\n",
       "    </tr>\n",
       "    <tr>\n",
       "      <th>4999</th>\n",
       "      <td>0.33</td>\n",
       "      <td>Ideal</td>\n",
       "      <td>E</td>\n",
       "      <td>VS2</td>\n",
       "      <td>61.8</td>\n",
       "      <td>55.0</td>\n",
       "      <td>4.45</td>\n",
       "      <td>4.48</td>\n",
       "      <td>2.76</td>\n",
       "      <td>4531.130046</td>\n",
       "    </tr>\n",
       "  </tbody>\n",
       "</table>\n",
       "<p>5000 rows × 10 columns</p>\n",
       "</div>"
      ],
      "text/plain": [
       "      carat        cut color clarity  depth  table     x     y     z  \\\n",
       "0      0.91  Very Good     H     SI2   63.4   57.0  6.10  6.18  3.89   \n",
       "1      0.38       Good     F     VS2   60.3   61.0  4.68  4.71  2.83   \n",
       "2      0.52      Ideal     H     VS2   61.8   56.0  5.19  5.16  3.20   \n",
       "3      1.10      Ideal     G     VS1   61.3   56.0  6.65  6.69  4.09   \n",
       "4      2.28      Ideal     G     SI2   61.6   57.0  8.44  8.37  5.18   \n",
       "...     ...        ...   ...     ...    ...    ...   ...   ...   ...   \n",
       "4995   0.30  Very Good     D     SI2   62.2   59.0  4.25  4.30  2.66   \n",
       "4996   0.51      Ideal     F    VVS2   61.9   56.0  5.09  5.14  3.16   \n",
       "4997   1.01  Very Good     F     SI1   60.6   60.0  6.37  6.43  3.88   \n",
       "4998   0.31      Ideal     F    VVS1   62.1   56.0  4.35  4.38  2.71   \n",
       "4999   0.33      Ideal     E     VS2   61.8   55.0  4.45  4.48  2.76   \n",
       "\n",
       "      price_predicted  \n",
       "0          -61.810353  \n",
       "1           35.648039  \n",
       "2          364.857769  \n",
       "3          397.533033  \n",
       "4          125.335495  \n",
       "...               ...  \n",
       "4995      4486.218076  \n",
       "4996      6072.898695  \n",
       "4997      4508.298842  \n",
       "4998      4615.172623  \n",
       "4999      4531.130046  \n",
       "\n",
       "[5000 rows x 10 columns]"
      ]
     },
     "execution_count": 183,
     "metadata": {},
     "output_type": "execute_result"
    }
   ],
   "source": [
    "#checking rick data set after price predicted update\n",
    "# pd.Series was used on y prediction in order to fill missed rows with Nan\n",
    "data_rick['price_predicted'] = pd.Series(y_pred_std_all)\n",
    "data_rick"
   ]
  },
  {
   "cell_type": "code",
   "execution_count": 184,
   "id": "9c2a6629",
   "metadata": {
    "ExecuteTime": {
     "end_time": "2022-07-10T16:49:20.426783Z",
     "start_time": "2022-07-10T16:49:20.361608Z"
    }
   },
   "outputs": [],
   "source": [
    "# Transforming the data set using 'price' x 'carat'linear regression to .csv to check on diamonds' websited\n",
    "data_rick.to_csv('data1/asset-v1 IRONHACK+DAPT+202007_SAO+type@asset+block@rick_diamonds.csv')\n"
   ]
  },
  {
   "cell_type": "code",
   "execution_count": null,
   "id": "4d0627fd",
   "metadata": {},
   "outputs": [],
   "source": []
  },
  {
   "cell_type": "code",
   "execution_count": null,
   "id": "f93fe148",
   "metadata": {},
   "outputs": [],
   "source": []
  },
  {
   "cell_type": "code",
   "execution_count": null,
   "id": "179b2ecc",
   "metadata": {},
   "outputs": [],
   "source": []
  }
 ],
 "metadata": {
  "kernelspec": {
   "display_name": "Python 3 (ipykernel)",
   "language": "python",
   "name": "python3"
  },
  "language_info": {
   "codemirror_mode": {
    "name": "ipython",
    "version": 3
   },
   "file_extension": ".py",
   "mimetype": "text/x-python",
   "name": "python",
   "nbconvert_exporter": "python",
   "pygments_lexer": "ipython3",
   "version": "3.9.7"
  },
  "toc": {
   "base_numbering": 1,
   "nav_menu": {},
   "number_sections": true,
   "sideBar": true,
   "skip_h1_title": false,
   "title_cell": "Table of Contents",
   "title_sidebar": "Contents",
   "toc_cell": false,
   "toc_position": {},
   "toc_section_display": true,
   "toc_window_display": false
  }
 },
 "nbformat": 4,
 "nbformat_minor": 5
}
