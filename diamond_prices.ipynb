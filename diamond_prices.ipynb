{
  "nbformat": 4,
  "nbformat_minor": 0,
  "metadata": {
    "colab": {
      "name": "diamond_prices.ipynb",
      "provenance": [],
      "authorship_tag": "ABX9TyNjyji+iP01B1efuA95q6Lu",
      "include_colab_link": true
    },
    "kernelspec": {
      "name": "python3",
      "display_name": "Python 3"
    },
    "language_info": {
      "name": "python"
    }
  },
  "cells": [
    {
      "cell_type": "markdown",
      "metadata": {
        "id": "view-in-github",
        "colab_type": "text"
      },
      "source": [
        "<a href=\"https://colab.research.google.com/github/mmiyamoto1/Projeto1/blob/main/diamond_prices.ipynb\" target=\"_parent\"><img src=\"https://colab.research.google.com/assets/colab-badge.svg\" alt=\"Open In Colab\"/></a>"
      ]
    },
    {
      "cell_type": "code",
      "execution_count": null,
      "metadata": {
        "id": "3e6gMC5W3xPa"
      },
      "outputs": [],
      "source": [
        "#libraries import\n",
        "\n",
        "import pandas as pd\n",
        "import seaborn as sns\n",
        "import numpy as np\n",
        "import matplotlib as mpl\n",
        "from matplotlib import pyplot as plt, pylab as pylab\n",
        "from sklearn import *\n"
      ]
    },
    {
      "cell_type": "code",
      "source": [
        "'''\n",
        "df['coluna'].max() ou > quantidade\n",
        "df['coluna'].plot()\n",
        "sns.pairplot(df[df['coluna']<10000])\n",
        "sns.displot(df['coluna'], kind='hist/kde')\n",
        "sns.catplot(df_clean['coluna'], kind='hist') compara uma categorica com uma categorica ou numerica\n",
        "sns.relplot = faz o resumo de graficos\n",
        "df.corr()\n",
        "\n",
        "\n",
        "\n",
        "Importações\n",
        "\n",
        "Limpeza\n",
        "\n",
        "Graficos\n",
        "\n",
        "Treinamento  modelo\n",
        "\n",
        "Deploy"
      ],
      "metadata": {
        "id": "1ybk63DS-OHX"
      },
      "execution_count": null,
      "outputs": []
    }
  ]
}