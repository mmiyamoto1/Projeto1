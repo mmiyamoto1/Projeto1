{
 "cells": [
  {
   "cell_type": "code",
   "execution_count": 26,
   "id": "6c7a6d94",
   "metadata": {
    "ExecuteTime": {
     "end_time": "2022-07-08T20:39:55.346032Z",
     "start_time": "2022-07-08T20:39:55.298089Z"
    }
   },
   "outputs": [],
   "source": [
    "#libraries import\n",
    "\n",
    "import pandas as pd\n",
    "import seaborn as sns\n",
    "import numpy as np\n",
    "import matplotlib as mpl\n",
    "from matplotlib import pyplot as plt, pylab as pylab\n",
    "from sklearn import *\n",
    "import re"
   ]
  },
  {
   "cell_type": "code",
   "execution_count": 13,
   "id": "5ebf934b",
   "metadata": {
    "ExecuteTime": {
     "end_time": "2022-07-08T20:18:27.482054Z",
     "start_time": "2022-07-08T20:18:27.454682Z"
    }
   },
   "outputs": [
    {
     "data": {
      "text/html": [
       "<div>\n",
       "<style scoped>\n",
       "    .dataframe tbody tr th:only-of-type {\n",
       "        vertical-align: middle;\n",
       "    }\n",
       "\n",
       "    .dataframe tbody tr th {\n",
       "        vertical-align: top;\n",
       "    }\n",
       "\n",
       "    .dataframe thead th {\n",
       "        text-align: right;\n",
       "    }\n",
       "</style>\n",
       "<table border=\"1\" class=\"dataframe\">\n",
       "  <thead>\n",
       "    <tr style=\"text-align: right;\">\n",
       "      <th></th>\n",
       "      <th>carat</th>\n",
       "      <th>cut</th>\n",
       "      <th>color</th>\n",
       "      <th>clarity</th>\n",
       "      <th>depth</th>\n",
       "      <th>table</th>\n",
       "      <th>x</th>\n",
       "      <th>y</th>\n",
       "      <th>z</th>\n",
       "    </tr>\n",
       "  </thead>\n",
       "  <tbody>\n",
       "    <tr>\n",
       "      <th>0</th>\n",
       "      <td>0.91</td>\n",
       "      <td>Very Good</td>\n",
       "      <td>H</td>\n",
       "      <td>SI2</td>\n",
       "      <td>63.4</td>\n",
       "      <td>57.0</td>\n",
       "      <td>6.10</td>\n",
       "      <td>6.18</td>\n",
       "      <td>3.89</td>\n",
       "    </tr>\n",
       "    <tr>\n",
       "      <th>1</th>\n",
       "      <td>0.38</td>\n",
       "      <td>Good</td>\n",
       "      <td>F</td>\n",
       "      <td>VS2</td>\n",
       "      <td>60.3</td>\n",
       "      <td>61.0</td>\n",
       "      <td>4.68</td>\n",
       "      <td>4.71</td>\n",
       "      <td>2.83</td>\n",
       "    </tr>\n",
       "    <tr>\n",
       "      <th>2</th>\n",
       "      <td>0.52</td>\n",
       "      <td>Ideal</td>\n",
       "      <td>H</td>\n",
       "      <td>VS2</td>\n",
       "      <td>61.8</td>\n",
       "      <td>56.0</td>\n",
       "      <td>5.19</td>\n",
       "      <td>5.16</td>\n",
       "      <td>3.20</td>\n",
       "    </tr>\n",
       "    <tr>\n",
       "      <th>3</th>\n",
       "      <td>1.10</td>\n",
       "      <td>Ideal</td>\n",
       "      <td>G</td>\n",
       "      <td>VS1</td>\n",
       "      <td>61.3</td>\n",
       "      <td>56.0</td>\n",
       "      <td>6.65</td>\n",
       "      <td>6.69</td>\n",
       "      <td>4.09</td>\n",
       "    </tr>\n",
       "    <tr>\n",
       "      <th>4</th>\n",
       "      <td>2.28</td>\n",
       "      <td>Ideal</td>\n",
       "      <td>G</td>\n",
       "      <td>SI2</td>\n",
       "      <td>61.6</td>\n",
       "      <td>57.0</td>\n",
       "      <td>8.44</td>\n",
       "      <td>8.37</td>\n",
       "      <td>5.18</td>\n",
       "    </tr>\n",
       "  </tbody>\n",
       "</table>\n",
       "</div>"
      ],
      "text/plain": [
       "   carat        cut color clarity  depth  table     x     y     z\n",
       "0   0.91  Very Good     H     SI2   63.4   57.0  6.10  6.18  3.89\n",
       "1   0.38       Good     F     VS2   60.3   61.0  4.68  4.71  2.83\n",
       "2   0.52      Ideal     H     VS2   61.8   56.0  5.19  5.16  3.20\n",
       "3   1.10      Ideal     G     VS1   61.3   56.0  6.65  6.69  4.09\n",
       "4   2.28      Ideal     G     SI2   61.6   57.0  8.44  8.37  5.18"
      ]
     },
     "execution_count": 13,
     "metadata": {},
     "output_type": "execute_result"
    }
   ],
   "source": [
    "data_rick_diamonds = pd.read_csv('rick_diamonds.csv')\n",
    "data_rick_diamonds.head()"
   ]
  },
  {
   "cell_type": "code",
   "execution_count": 14,
   "id": "42372c6b",
   "metadata": {
    "ExecuteTime": {
     "end_time": "2022-07-08T20:18:27.828193Z",
     "start_time": "2022-07-08T20:18:27.752328Z"
    }
   },
   "outputs": [
    {
     "data": {
      "text/html": [
       "<div>\n",
       "<style scoped>\n",
       "    .dataframe tbody tr th:only-of-type {\n",
       "        vertical-align: middle;\n",
       "    }\n",
       "\n",
       "    .dataframe tbody tr th {\n",
       "        vertical-align: top;\n",
       "    }\n",
       "\n",
       "    .dataframe thead th {\n",
       "        text-align: right;\n",
       "    }\n",
       "</style>\n",
       "<table border=\"1\" class=\"dataframe\">\n",
       "  <thead>\n",
       "    <tr style=\"text-align: right;\">\n",
       "      <th></th>\n",
       "      <th>carat</th>\n",
       "      <th>cut</th>\n",
       "      <th>color</th>\n",
       "      <th>clarity</th>\n",
       "      <th>depth</th>\n",
       "      <th>table</th>\n",
       "      <th>price</th>\n",
       "      <th>x</th>\n",
       "      <th>y</th>\n",
       "      <th>z</th>\n",
       "    </tr>\n",
       "  </thead>\n",
       "  <tbody>\n",
       "    <tr>\n",
       "      <th>0</th>\n",
       "      <td>0.21</td>\n",
       "      <td>Premium</td>\n",
       "      <td>E</td>\n",
       "      <td>SI1</td>\n",
       "      <td>59.8</td>\n",
       "      <td>61.0</td>\n",
       "      <td>326</td>\n",
       "      <td>3.89</td>\n",
       "      <td>3.84</td>\n",
       "      <td>2.31</td>\n",
       "    </tr>\n",
       "    <tr>\n",
       "      <th>1</th>\n",
       "      <td>0.23</td>\n",
       "      <td>Good</td>\n",
       "      <td>E</td>\n",
       "      <td>VS1</td>\n",
       "      <td>56.9</td>\n",
       "      <td>65.0</td>\n",
       "      <td>327</td>\n",
       "      <td>4.05</td>\n",
       "      <td>4.07</td>\n",
       "      <td>2.31</td>\n",
       "    </tr>\n",
       "    <tr>\n",
       "      <th>2</th>\n",
       "      <td>0.29</td>\n",
       "      <td>Premium</td>\n",
       "      <td>I</td>\n",
       "      <td>VS2</td>\n",
       "      <td>62.4</td>\n",
       "      <td>58.0</td>\n",
       "      <td>334</td>\n",
       "      <td>4.20</td>\n",
       "      <td>4.23</td>\n",
       "      <td>2.63</td>\n",
       "    </tr>\n",
       "    <tr>\n",
       "      <th>3</th>\n",
       "      <td>0.31</td>\n",
       "      <td>Good</td>\n",
       "      <td>J</td>\n",
       "      <td>SI2</td>\n",
       "      <td>63.3</td>\n",
       "      <td>58.0</td>\n",
       "      <td>335</td>\n",
       "      <td>4.34</td>\n",
       "      <td>4.35</td>\n",
       "      <td>2.75</td>\n",
       "    </tr>\n",
       "    <tr>\n",
       "      <th>4</th>\n",
       "      <td>0.24</td>\n",
       "      <td>Very Good</td>\n",
       "      <td>J</td>\n",
       "      <td>VVS2</td>\n",
       "      <td>62.8</td>\n",
       "      <td>57.0</td>\n",
       "      <td>336</td>\n",
       "      <td>3.94</td>\n",
       "      <td>3.96</td>\n",
       "      <td>2.48</td>\n",
       "    </tr>\n",
       "  </tbody>\n",
       "</table>\n",
       "</div>"
      ],
      "text/plain": [
       "   carat        cut color clarity  depth  table  price     x     y     z\n",
       "0   0.21    Premium     E     SI1   59.8   61.0    326  3.89  3.84  2.31\n",
       "1   0.23       Good     E     VS1   56.9   65.0    327  4.05  4.07  2.31\n",
       "2   0.29    Premium     I     VS2   62.4   58.0    334  4.20  4.23  2.63\n",
       "3   0.31       Good     J     SI2   63.3   58.0    335  4.34  4.35  2.75\n",
       "4   0.24  Very Good     J    VVS2   62.8   57.0    336  3.94  3.96  2.48"
      ]
     },
     "execution_count": 14,
     "metadata": {},
     "output_type": "execute_result"
    }
   ],
   "source": [
    "data_diamonds = pd.read_csv('diamonds.csv')\n",
    "data_diamonds.head()"
   ]
  },
  {
   "cell_type": "code",
   "execution_count": 15,
   "id": "919ee3a0",
   "metadata": {
    "ExecuteTime": {
     "end_time": "2022-07-08T20:18:28.828783Z",
     "start_time": "2022-07-08T20:18:28.812942Z"
    }
   },
   "outputs": [
    {
     "data": {
      "text/plain": [
       "LinearRegression()"
      ]
     },
     "execution_count": 15,
     "metadata": {},
     "output_type": "execute_result"
    }
   ],
   "source": [
    "from sklearn.linear_model import LinearRegression\n",
    "\n",
    "X=data_diamonds[['carat']]\n",
    "y=data_diamonds['price']\n",
    "\n",
    "model = LinearRegression()\n",
    "model.fit(X,y)"
   ]
  },
  {
   "cell_type": "code",
   "execution_count": 16,
   "id": "8bb8995a",
   "metadata": {
    "ExecuteTime": {
     "end_time": "2022-07-08T20:19:01.912003Z",
     "start_time": "2022-07-08T20:19:01.893731Z"
    }
   },
   "outputs": [],
   "source": [
    "data_rick_diamonds['price_predicted'] = model.predict(data_rick_diamonds[['carat']])"
   ]
  },
  {
   "cell_type": "code",
   "execution_count": 23,
   "id": "d67bf28d",
   "metadata": {
    "ExecuteTime": {
     "end_time": "2022-07-08T20:27:13.587265Z",
     "start_time": "2022-07-08T20:27:13.529217Z"
    }
   },
   "outputs": [
    {
     "data": {
      "text/html": [
       "<div>\n",
       "<style scoped>\n",
       "    .dataframe tbody tr th:only-of-type {\n",
       "        vertical-align: middle;\n",
       "    }\n",
       "\n",
       "    .dataframe tbody tr th {\n",
       "        vertical-align: top;\n",
       "    }\n",
       "\n",
       "    .dataframe thead th {\n",
       "        text-align: right;\n",
       "    }\n",
       "</style>\n",
       "<table border=\"1\" class=\"dataframe\">\n",
       "  <thead>\n",
       "    <tr style=\"text-align: right;\">\n",
       "      <th></th>\n",
       "      <th>carat</th>\n",
       "      <th>cut</th>\n",
       "      <th>color</th>\n",
       "      <th>clarity</th>\n",
       "      <th>depth</th>\n",
       "      <th>table</th>\n",
       "      <th>x</th>\n",
       "      <th>y</th>\n",
       "      <th>z</th>\n",
       "      <th>price_predicted</th>\n",
       "    </tr>\n",
       "  </thead>\n",
       "  <tbody>\n",
       "    <tr>\n",
       "      <th>0</th>\n",
       "      <td>0.91</td>\n",
       "      <td>Very Good</td>\n",
       "      <td>H</td>\n",
       "      <td>SI2</td>\n",
       "      <td>63.4</td>\n",
       "      <td>57.0</td>\n",
       "      <td>6.10</td>\n",
       "      <td>6.18</td>\n",
       "      <td>3.89</td>\n",
       "      <td>4804.879333</td>\n",
       "    </tr>\n",
       "    <tr>\n",
       "      <th>1</th>\n",
       "      <td>0.38</td>\n",
       "      <td>Good</td>\n",
       "      <td>F</td>\n",
       "      <td>VS2</td>\n",
       "      <td>60.3</td>\n",
       "      <td>61.0</td>\n",
       "      <td>4.68</td>\n",
       "      <td>4.71</td>\n",
       "      <td>2.83</td>\n",
       "      <td>692.422362</td>\n",
       "    </tr>\n",
       "    <tr>\n",
       "      <th>2</th>\n",
       "      <td>0.52</td>\n",
       "      <td>Ideal</td>\n",
       "      <td>H</td>\n",
       "      <td>VS2</td>\n",
       "      <td>61.8</td>\n",
       "      <td>56.0</td>\n",
       "      <td>5.19</td>\n",
       "      <td>5.16</td>\n",
       "      <td>3.20</td>\n",
       "      <td>1778.731751</td>\n",
       "    </tr>\n",
       "    <tr>\n",
       "      <th>3</th>\n",
       "      <td>1.10</td>\n",
       "      <td>Ideal</td>\n",
       "      <td>G</td>\n",
       "      <td>VS1</td>\n",
       "      <td>61.3</td>\n",
       "      <td>56.0</td>\n",
       "      <td>6.65</td>\n",
       "      <td>6.69</td>\n",
       "      <td>4.09</td>\n",
       "      <td>6279.156361</td>\n",
       "    </tr>\n",
       "    <tr>\n",
       "      <th>4</th>\n",
       "      <td>2.28</td>\n",
       "      <td>Ideal</td>\n",
       "      <td>G</td>\n",
       "      <td>SI2</td>\n",
       "      <td>61.6</td>\n",
       "      <td>57.0</td>\n",
       "      <td>8.44</td>\n",
       "      <td>8.37</td>\n",
       "      <td>5.18</td>\n",
       "      <td>15435.192637</td>\n",
       "    </tr>\n",
       "  </tbody>\n",
       "</table>\n",
       "</div>"
      ],
      "text/plain": [
       "   carat        cut color clarity  depth  table     x     y     z  \\\n",
       "0   0.91  Very Good     H     SI2   63.4   57.0  6.10  6.18  3.89   \n",
       "1   0.38       Good     F     VS2   60.3   61.0  4.68  4.71  2.83   \n",
       "2   0.52      Ideal     H     VS2   61.8   56.0  5.19  5.16  3.20   \n",
       "3   1.10      Ideal     G     VS1   61.3   56.0  6.65  6.69  4.09   \n",
       "4   2.28      Ideal     G     SI2   61.6   57.0  8.44  8.37  5.18   \n",
       "\n",
       "   price_predicted  \n",
       "0      4804.879333  \n",
       "1       692.422362  \n",
       "2      1778.731751  \n",
       "3      6279.156361  \n",
       "4     15435.192637  "
      ]
     },
     "execution_count": 23,
     "metadata": {},
     "output_type": "execute_result"
    }
   ],
   "source": [
    "data_rick_diamonds.head()"
   ]
  },
  {
   "cell_type": "code",
   "execution_count": 24,
   "id": "5371fdf0",
   "metadata": {
    "ExecuteTime": {
     "end_time": "2022-07-08T20:28:27.457775Z",
     "start_time": "2022-07-08T20:28:27.330386Z"
    },
    "cell_style": "split"
   },
   "outputs": [
    {
     "name": "stdout",
     "output_type": "stream",
     "text": [
      "<class 'pandas.core.frame.DataFrame'>\n",
      "RangeIndex: 48940 entries, 0 to 48939\n",
      "Data columns (total 10 columns):\n",
      " #   Column   Non-Null Count  Dtype  \n",
      "---  ------   --------------  -----  \n",
      " 0   carat    48940 non-null  float64\n",
      " 1   cut      48940 non-null  object \n",
      " 2   color    48940 non-null  object \n",
      " 3   clarity  48940 non-null  object \n",
      " 4   depth    48940 non-null  float64\n",
      " 5   table    48940 non-null  float64\n",
      " 6   price    48940 non-null  int64  \n",
      " 7   x        48940 non-null  float64\n",
      " 8   y        48940 non-null  float64\n",
      " 9   z        48940 non-null  float64\n",
      "dtypes: float64(6), int64(1), object(3)\n",
      "memory usage: 3.7+ MB\n"
     ]
    }
   ],
   "source": [
    "data_diamonds.info()"
   ]
  },
  {
   "cell_type": "code",
   "execution_count": 25,
   "id": "7deab7c0",
   "metadata": {
    "ExecuteTime": {
     "end_time": "2022-07-08T20:28:40.630265Z",
     "start_time": "2022-07-08T20:28:40.612743Z"
    },
    "cell_style": "split"
   },
   "outputs": [
    {
     "name": "stdout",
     "output_type": "stream",
     "text": [
      "<class 'pandas.core.frame.DataFrame'>\n",
      "RangeIndex: 5000 entries, 0 to 4999\n",
      "Data columns (total 10 columns):\n",
      " #   Column           Non-Null Count  Dtype  \n",
      "---  ------           --------------  -----  \n",
      " 0   carat            5000 non-null   float64\n",
      " 1   cut              5000 non-null   object \n",
      " 2   color            5000 non-null   object \n",
      " 3   clarity          5000 non-null   object \n",
      " 4   depth            5000 non-null   float64\n",
      " 5   table            5000 non-null   float64\n",
      " 6   x                5000 non-null   float64\n",
      " 7   y                5000 non-null   float64\n",
      " 8   z                5000 non-null   float64\n",
      " 9   price_predicted  5000 non-null   float64\n",
      "dtypes: float64(7), object(3)\n",
      "memory usage: 390.8+ KB\n"
     ]
    }
   ],
   "source": [
    "data_rick_diamonds.info()"
   ]
  },
  {
   "cell_type": "markdown",
   "id": "d6de3416",
   "metadata": {},
   "source": [
    "How to determine the price of a diamond:\n",
    "\n",
    "Carat weight of the diamond\n",
    "\n",
    "Cut quality of the cut (Fair, Good, Very Good, Premium, Ideal)\n",
    "\n",
    "color diamond colour, from J (worst) to D (best)\n",
    "\n",
    "clarity a measurement of how clear the diamond is (I1 (worst), SI2, SI1, VS2, VS1, VVS2, VVS1, IF (best))\n",
    "\n",
    "x length in mm\n",
    "\n",
    "y width in mm\n",
    "\n",
    "z depth in m\n",
    "\n",
    "depth: The height of a diamond\n",
    "\n",
    "table: The width of the diamond’s table expressed as a percentage of its average diameter"
   ]
  },
  {
   "cell_type": "code",
   "execution_count": 27,
   "id": "3430023c",
   "metadata": {
    "ExecuteTime": {
     "end_time": "2022-07-08T20:49:01.437501Z",
     "start_time": "2022-07-08T20:49:01.350606Z"
    },
    "cell_style": "center"
   },
   "outputs": [],
   "source": [
    "data_diamonds['cut_num'] = np.where(data_diamonds['cut']== 'Fair', 1,\n",
    "                           np.where(data_diamonds['cut']== 'Good', 2, \n",
    "                           np.where(data_diamonds['cut']== 'Very Good',3,\n",
    "                           np.where(data_diamonds['cut']== 'Premium',4,5))))"
   ]
  },
  {
   "cell_type": "code",
   "execution_count": 51,
   "id": "70e0dfe6",
   "metadata": {
    "ExecuteTime": {
     "end_time": "2022-07-09T02:55:14.813483Z",
     "start_time": "2022-07-09T02:55:14.672477Z"
    },
    "cell_style": "center"
   },
   "outputs": [],
   "source": [
    "data_rick_diamonds['cut_num'] = np.where(data_rick_diamonds['cut']== 'Fair', 1,\n",
    "                           np.where(data_rick_diamonds['cut']== 'Good', 2, \n",
    "                           np.where(data_rick_diamonds['cut']== 'Very Good',3,\n",
    "                           np.where(data_rick_diamonds['cut']== 'Premium',4,5))))"
   ]
  },
  {
   "cell_type": "code",
   "execution_count": 37,
   "id": "e9e0cff9",
   "metadata": {
    "ExecuteTime": {
     "end_time": "2022-07-08T20:55:04.426559Z",
     "start_time": "2022-07-08T20:55:04.386167Z"
    },
    "cell_style": "center"
   },
   "outputs": [],
   "source": [
    "data_diamonds['color_num'] = np.where(data_diamonds['color']== 'J', 1,\n",
    "                             np.where(data_diamonds['color']== 'I', 2, \n",
    "                             np.where(data_diamonds['color']== 'H', 3,\n",
    "                             np.where(data_diamonds['color']== 'G', 4,\n",
    "                             np.where(data_diamonds['color']== 'F', 5, 6)))))"
   ]
  },
  {
   "cell_type": "code",
   "execution_count": 52,
   "id": "972de6d8",
   "metadata": {
    "ExecuteTime": {
     "end_time": "2022-07-09T02:55:17.959780Z",
     "start_time": "2022-07-09T02:55:17.940403Z"
    },
    "cell_style": "center"
   },
   "outputs": [],
   "source": [
    "data_rick_diamonds['color_num'] = np.where(data_rick_diamonds['color']== 'J', 1,\n",
    "                             np.where(data_rick_diamonds['color']== 'I', 2, \n",
    "                             np.where(data_rick_diamonds['color']== 'H', 3,\n",
    "                             np.where(data_rick_diamonds['color']== 'G', 4,\n",
    "                             np.where(data_rick_diamonds['color']== 'F', 5, 6)))))"
   ]
  },
  {
   "cell_type": "code",
   "execution_count": 40,
   "id": "b9e0daf2",
   "metadata": {
    "ExecuteTime": {
     "end_time": "2022-07-08T20:56:54.122310Z",
     "start_time": "2022-07-08T20:56:54.087704Z"
    },
    "cell_style": "center"
   },
   "outputs": [],
   "source": [
    "data_diamonds['clarity_num'] = np.where(data_diamonds['clarity']== 'I1', 1,\n",
    "                               np.where(data_diamonds['clarity']== 'SI2', 2, \n",
    "                               np.where(data_diamonds['clarity']== 'SI1', 3,\n",
    "                               np.where(data_diamonds['clarity']== 'VS2', 4,\n",
    "                               np.where(data_diamonds['clarity']== 'VS1', 5,\n",
    "                               np.where(data_diamonds['clarity']== 'VVS2', 6,\n",
    "                               np.where(data_diamonds['clarity']== 'VVS1', 7,8)))))))"
   ]
  },
  {
   "cell_type": "code",
   "execution_count": 53,
   "id": "da175524",
   "metadata": {
    "ExecuteTime": {
     "end_time": "2022-07-09T02:55:20.664571Z",
     "start_time": "2022-07-09T02:55:20.639605Z"
    },
    "cell_style": "center"
   },
   "outputs": [],
   "source": [
    "data_rick_diamonds['clarity_num'] = np.where(data_rick_diamonds['clarity']== 'I1', 1,\n",
    "                               np.where(data_rick_diamonds['clarity']== 'SI2', 2, \n",
    "                               np.where(data_rick_diamonds['clarity']== 'SI1', 3,\n",
    "                               np.where(data_rick_diamonds['clarity']== 'VS2', 4,\n",
    "                               np.where(data_rick_diamonds['clarity']== 'VS1', 5,\n",
    "                               np.where(data_rick_diamonds['clarity']== 'VVS2', 6,\n",
    "                               np.where(data_rick_diamonds['clarity']== 'VVS1', 7,8)))))))"
   ]
  },
  {
   "cell_type": "code",
   "execution_count": 42,
   "id": "2359c255",
   "metadata": {
    "ExecuteTime": {
     "end_time": "2022-07-08T20:58:54.266098Z",
     "start_time": "2022-07-08T20:58:54.261222Z"
    },
    "scrolled": true
   },
   "outputs": [
    {
     "data": {
      "text/plain": [
       "0.5976714100905562"
      ]
     },
     "execution_count": 42,
     "metadata": {},
     "output_type": "execute_result"
    }
   ],
   "source": [
    "#depth = z/mean(x,y) = 2*z/(x+y)\n",
    "x=3.89\n",
    "y = 3.84\n",
    "z=2.31\n",
    "\n",
    "2*z/(x+y)"
   ]
  },
  {
   "cell_type": "code",
   "execution_count": 87,
   "id": "50ca513b",
   "metadata": {
    "ExecuteTime": {
     "end_time": "2022-07-09T03:09:57.200746Z",
     "start_time": "2022-07-09T03:09:57.173710Z"
    },
    "scrolled": false
   },
   "outputs": [
    {
     "data": {
      "text/html": [
       "<div>\n",
       "<style scoped>\n",
       "    .dataframe tbody tr th:only-of-type {\n",
       "        vertical-align: middle;\n",
       "    }\n",
       "\n",
       "    .dataframe tbody tr th {\n",
       "        vertical-align: top;\n",
       "    }\n",
       "\n",
       "    .dataframe thead th {\n",
       "        text-align: right;\n",
       "    }\n",
       "</style>\n",
       "<table border=\"1\" class=\"dataframe\">\n",
       "  <thead>\n",
       "    <tr style=\"text-align: right;\">\n",
       "      <th></th>\n",
       "      <th>carat</th>\n",
       "      <th>cut</th>\n",
       "      <th>color</th>\n",
       "      <th>clarity</th>\n",
       "      <th>depth</th>\n",
       "      <th>table</th>\n",
       "      <th>price</th>\n",
       "      <th>x</th>\n",
       "      <th>y</th>\n",
       "      <th>z</th>\n",
       "      <th>cut_num</th>\n",
       "      <th>color_num</th>\n",
       "      <th>clarity_num</th>\n",
       "    </tr>\n",
       "  </thead>\n",
       "  <tbody>\n",
       "    <tr>\n",
       "      <th>10119</th>\n",
       "      <td>1.07</td>\n",
       "      <td>Ideal</td>\n",
       "      <td>F</td>\n",
       "      <td>SI2</td>\n",
       "      <td>61.6</td>\n",
       "      <td>56.0</td>\n",
       "      <td>4954</td>\n",
       "      <td>0.0</td>\n",
       "      <td>6.62</td>\n",
       "      <td>0.0</td>\n",
       "      <td>5</td>\n",
       "      <td>5</td>\n",
       "      <td>2</td>\n",
       "    </tr>\n",
       "    <tr>\n",
       "      <th>10825</th>\n",
       "      <td>1.00</td>\n",
       "      <td>Very Good</td>\n",
       "      <td>H</td>\n",
       "      <td>VS2</td>\n",
       "      <td>63.3</td>\n",
       "      <td>53.0</td>\n",
       "      <td>5139</td>\n",
       "      <td>0.0</td>\n",
       "      <td>0.00</td>\n",
       "      <td>0.0</td>\n",
       "      <td>3</td>\n",
       "      <td>3</td>\n",
       "      <td>4</td>\n",
       "    </tr>\n",
       "    <tr>\n",
       "      <th>14433</th>\n",
       "      <td>1.14</td>\n",
       "      <td>Fair</td>\n",
       "      <td>G</td>\n",
       "      <td>VS1</td>\n",
       "      <td>57.5</td>\n",
       "      <td>67.0</td>\n",
       "      <td>6381</td>\n",
       "      <td>0.0</td>\n",
       "      <td>0.00</td>\n",
       "      <td>0.0</td>\n",
       "      <td>1</td>\n",
       "      <td>4</td>\n",
       "      <td>5</td>\n",
       "    </tr>\n",
       "    <tr>\n",
       "      <th>22240</th>\n",
       "      <td>1.56</td>\n",
       "      <td>Ideal</td>\n",
       "      <td>G</td>\n",
       "      <td>VS2</td>\n",
       "      <td>62.2</td>\n",
       "      <td>54.0</td>\n",
       "      <td>12800</td>\n",
       "      <td>0.0</td>\n",
       "      <td>0.00</td>\n",
       "      <td>0.0</td>\n",
       "      <td>5</td>\n",
       "      <td>4</td>\n",
       "      <td>4</td>\n",
       "    </tr>\n",
       "    <tr>\n",
       "      <th>23795</th>\n",
       "      <td>1.20</td>\n",
       "      <td>Premium</td>\n",
       "      <td>D</td>\n",
       "      <td>VVS1</td>\n",
       "      <td>62.1</td>\n",
       "      <td>59.0</td>\n",
       "      <td>15686</td>\n",
       "      <td>0.0</td>\n",
       "      <td>0.00</td>\n",
       "      <td>0.0</td>\n",
       "      <td>4</td>\n",
       "      <td>6</td>\n",
       "      <td>7</td>\n",
       "    </tr>\n",
       "    <tr>\n",
       "      <th>24864</th>\n",
       "      <td>2.25</td>\n",
       "      <td>Premium</td>\n",
       "      <td>H</td>\n",
       "      <td>SI2</td>\n",
       "      <td>62.8</td>\n",
       "      <td>59.0</td>\n",
       "      <td>18034</td>\n",
       "      <td>0.0</td>\n",
       "      <td>0.00</td>\n",
       "      <td>0.0</td>\n",
       "      <td>4</td>\n",
       "      <td>3</td>\n",
       "      <td>2</td>\n",
       "    </tr>\n",
       "    <tr>\n",
       "      <th>44936</th>\n",
       "      <td>0.71</td>\n",
       "      <td>Good</td>\n",
       "      <td>F</td>\n",
       "      <td>SI2</td>\n",
       "      <td>64.1</td>\n",
       "      <td>60.0</td>\n",
       "      <td>2130</td>\n",
       "      <td>0.0</td>\n",
       "      <td>0.00</td>\n",
       "      <td>0.0</td>\n",
       "      <td>2</td>\n",
       "      <td>5</td>\n",
       "      <td>2</td>\n",
       "    </tr>\n",
       "  </tbody>\n",
       "</table>\n",
       "</div>"
      ],
      "text/plain": [
       "       carat        cut color clarity  depth  table  price    x     y    z  \\\n",
       "10119   1.07      Ideal     F     SI2   61.6   56.0   4954  0.0  6.62  0.0   \n",
       "10825   1.00  Very Good     H     VS2   63.3   53.0   5139  0.0  0.00  0.0   \n",
       "14433   1.14       Fair     G     VS1   57.5   67.0   6381  0.0  0.00  0.0   \n",
       "22240   1.56      Ideal     G     VS2   62.2   54.0  12800  0.0  0.00  0.0   \n",
       "23795   1.20    Premium     D    VVS1   62.1   59.0  15686  0.0  0.00  0.0   \n",
       "24864   2.25    Premium     H     SI2   62.8   59.0  18034  0.0  0.00  0.0   \n",
       "44936   0.71       Good     F     SI2   64.1   60.0   2130  0.0  0.00  0.0   \n",
       "\n",
       "       cut_num  color_num  clarity_num  \n",
       "10119        5          5            2  \n",
       "10825        3          3            4  \n",
       "14433        1          4            5  \n",
       "22240        5          4            4  \n",
       "23795        4          6            7  \n",
       "24864        4          3            2  \n",
       "44936        2          5            2  "
      ]
     },
     "execution_count": 87,
     "metadata": {},
     "output_type": "execute_result"
    }
   ],
   "source": [
    "data_diamonds[data_diamonds['x']==0"
   ]
  },
  {
   "cell_type": "code",
   "execution_count": 98,
   "id": "ccb4b352",
   "metadata": {
    "ExecuteTime": {
     "end_time": "2022-07-09T03:47:02.847189Z",
     "start_time": "2022-07-09T03:47:02.805057Z"
    },
    "scrolled": true
   },
   "outputs": [
    {
     "data": {
      "text/html": [
       "<div>\n",
       "<style scoped>\n",
       "    .dataframe tbody tr th:only-of-type {\n",
       "        vertical-align: middle;\n",
       "    }\n",
       "\n",
       "    .dataframe tbody tr th {\n",
       "        vertical-align: top;\n",
       "    }\n",
       "\n",
       "    .dataframe thead th {\n",
       "        text-align: right;\n",
       "    }\n",
       "</style>\n",
       "<table border=\"1\" class=\"dataframe\">\n",
       "  <thead>\n",
       "    <tr style=\"text-align: right;\">\n",
       "      <th></th>\n",
       "      <th>carat</th>\n",
       "      <th>depth</th>\n",
       "      <th>table</th>\n",
       "      <th>price</th>\n",
       "      <th>x</th>\n",
       "      <th>y</th>\n",
       "      <th>z</th>\n",
       "      <th>cut_num</th>\n",
       "      <th>color_num</th>\n",
       "      <th>clarity_num</th>\n",
       "    </tr>\n",
       "  </thead>\n",
       "  <tbody>\n",
       "    <tr>\n",
       "      <th>carat</th>\n",
       "      <td>1.000000</td>\n",
       "      <td>0.027074</td>\n",
       "      <td>0.181688</td>\n",
       "      <td>0.922186</td>\n",
       "      <td>0.975152</td>\n",
       "      <td>0.949687</td>\n",
       "      <td>0.951824</td>\n",
       "      <td>-0.136218</td>\n",
       "      <td>-0.299625</td>\n",
       "      <td>-0.353837</td>\n",
       "    </tr>\n",
       "    <tr>\n",
       "      <th>depth</th>\n",
       "      <td>0.027074</td>\n",
       "      <td>1.000000</td>\n",
       "      <td>-0.297123</td>\n",
       "      <td>-0.012037</td>\n",
       "      <td>-0.025858</td>\n",
       "      <td>-0.029903</td>\n",
       "      <td>0.094344</td>\n",
       "      <td>-0.220066</td>\n",
       "      <td>-0.048851</td>\n",
       "      <td>-0.067543</td>\n",
       "    </tr>\n",
       "    <tr>\n",
       "      <th>table</th>\n",
       "      <td>0.181688</td>\n",
       "      <td>-0.297123</td>\n",
       "      <td>1.000000</td>\n",
       "      <td>0.127832</td>\n",
       "      <td>0.195367</td>\n",
       "      <td>0.183362</td>\n",
       "      <td>0.150646</td>\n",
       "      <td>-0.431738</td>\n",
       "      <td>-0.028058</td>\n",
       "      <td>-0.160579</td>\n",
       "    </tr>\n",
       "    <tr>\n",
       "      <th>price</th>\n",
       "      <td>0.922186</td>\n",
       "      <td>-0.012037</td>\n",
       "      <td>0.127832</td>\n",
       "      <td>1.000000</td>\n",
       "      <td>0.885019</td>\n",
       "      <td>0.864059</td>\n",
       "      <td>0.860247</td>\n",
       "      <td>-0.055150</td>\n",
       "      <td>-0.176244</td>\n",
       "      <td>-0.148668</td>\n",
       "    </tr>\n",
       "    <tr>\n",
       "      <th>x</th>\n",
       "      <td>0.975152</td>\n",
       "      <td>-0.025858</td>\n",
       "      <td>0.195367</td>\n",
       "      <td>0.885019</td>\n",
       "      <td>1.000000</td>\n",
       "      <td>0.972447</td>\n",
       "      <td>0.969336</td>\n",
       "      <td>-0.127095</td>\n",
       "      <td>-0.277152</td>\n",
       "      <td>-0.372725</td>\n",
       "    </tr>\n",
       "    <tr>\n",
       "      <th>y</th>\n",
       "      <td>0.949687</td>\n",
       "      <td>-0.029903</td>\n",
       "      <td>0.183362</td>\n",
       "      <td>0.864059</td>\n",
       "      <td>0.972447</td>\n",
       "      <td>1.000000</td>\n",
       "      <td>0.948768</td>\n",
       "      <td>-0.122565</td>\n",
       "      <td>-0.269623</td>\n",
       "      <td>-0.358191</td>\n",
       "    </tr>\n",
       "    <tr>\n",
       "      <th>z</th>\n",
       "      <td>0.951824</td>\n",
       "      <td>0.094344</td>\n",
       "      <td>0.150646</td>\n",
       "      <td>0.860247</td>\n",
       "      <td>0.969336</td>\n",
       "      <td>0.948768</td>\n",
       "      <td>1.000000</td>\n",
       "      <td>-0.150714</td>\n",
       "      <td>-0.274580</td>\n",
       "      <td>-0.367025</td>\n",
       "    </tr>\n",
       "    <tr>\n",
       "      <th>cut_num</th>\n",
       "      <td>-0.136218</td>\n",
       "      <td>-0.220066</td>\n",
       "      <td>-0.431738</td>\n",
       "      <td>-0.055150</td>\n",
       "      <td>-0.127095</td>\n",
       "      <td>-0.122565</td>\n",
       "      <td>-0.150714</td>\n",
       "      <td>1.000000</td>\n",
       "      <td>0.020580</td>\n",
       "      <td>0.189438</td>\n",
       "    </tr>\n",
       "    <tr>\n",
       "      <th>color_num</th>\n",
       "      <td>-0.299625</td>\n",
       "      <td>-0.048851</td>\n",
       "      <td>-0.028058</td>\n",
       "      <td>-0.176244</td>\n",
       "      <td>-0.277152</td>\n",
       "      <td>-0.269623</td>\n",
       "      <td>-0.274580</td>\n",
       "      <td>0.020580</td>\n",
       "      <td>1.000000</td>\n",
       "      <td>-0.009351</td>\n",
       "    </tr>\n",
       "    <tr>\n",
       "      <th>clarity_num</th>\n",
       "      <td>-0.353837</td>\n",
       "      <td>-0.067543</td>\n",
       "      <td>-0.160579</td>\n",
       "      <td>-0.148668</td>\n",
       "      <td>-0.372725</td>\n",
       "      <td>-0.358191</td>\n",
       "      <td>-0.367025</td>\n",
       "      <td>0.189438</td>\n",
       "      <td>-0.009351</td>\n",
       "      <td>1.000000</td>\n",
       "    </tr>\n",
       "  </tbody>\n",
       "</table>\n",
       "</div>"
      ],
      "text/plain": [
       "                carat     depth     table     price         x         y  \\\n",
       "carat        1.000000  0.027074  0.181688  0.922186  0.975152  0.949687   \n",
       "depth        0.027074  1.000000 -0.297123 -0.012037 -0.025858 -0.029903   \n",
       "table        0.181688 -0.297123  1.000000  0.127832  0.195367  0.183362   \n",
       "price        0.922186 -0.012037  0.127832  1.000000  0.885019  0.864059   \n",
       "x            0.975152 -0.025858  0.195367  0.885019  1.000000  0.972447   \n",
       "y            0.949687 -0.029903  0.183362  0.864059  0.972447  1.000000   \n",
       "z            0.951824  0.094344  0.150646  0.860247  0.969336  0.948768   \n",
       "cut_num     -0.136218 -0.220066 -0.431738 -0.055150 -0.127095 -0.122565   \n",
       "color_num   -0.299625 -0.048851 -0.028058 -0.176244 -0.277152 -0.269623   \n",
       "clarity_num -0.353837 -0.067543 -0.160579 -0.148668 -0.372725 -0.358191   \n",
       "\n",
       "                    z   cut_num  color_num  clarity_num  \n",
       "carat        0.951824 -0.136218  -0.299625    -0.353837  \n",
       "depth        0.094344 -0.220066  -0.048851    -0.067543  \n",
       "table        0.150646 -0.431738  -0.028058    -0.160579  \n",
       "price        0.860247 -0.055150  -0.176244    -0.148668  \n",
       "x            0.969336 -0.127095  -0.277152    -0.372725  \n",
       "y            0.948768 -0.122565  -0.269623    -0.358191  \n",
       "z            1.000000 -0.150714  -0.274580    -0.367025  \n",
       "cut_num     -0.150714  1.000000   0.020580     0.189438  \n",
       "color_num   -0.274580  0.020580   1.000000    -0.009351  \n",
       "clarity_num -0.367025  0.189438  -0.009351     1.000000  "
      ]
     },
     "execution_count": 98,
     "metadata": {},
     "output_type": "execute_result"
    }
   ],
   "source": [
    "data_diamonds.corr()"
   ]
  },
  {
   "cell_type": "code",
   "execution_count": 232,
   "id": "508ab158",
   "metadata": {
    "ExecuteTime": {
     "end_time": "2022-07-09T04:38:19.197140Z",
     "start_time": "2022-07-09T04:38:19.179892Z"
    }
   },
   "outputs": [],
   "source": [
    "from sklearn.linear_model import LinearRegression\n",
    "\n",
    "X=data_diamonds[['carat','cut_num','color_num','clarity_num']]\n",
    "y=data_diamonds['y']\n",
    "\n",
    "model = LinearRegression()\n",
    "model.fit(X,y)\n",
    "data_diamonds['teste_y'] = model.predict(X)"
   ]
  },
  {
   "cell_type": "code",
   "execution_count": 233,
   "id": "b6c1e17f",
   "metadata": {
    "ExecuteTime": {
     "end_time": "2022-07-09T04:38:21.938815Z",
     "start_time": "2022-07-09T04:38:21.926328Z"
    }
   },
   "outputs": [
    {
     "data": {
      "text/plain": [
       "(0.24566720853855567, 0.35718829586617223, 0.21515873646028597)"
      ]
     },
     "execution_count": 233,
     "metadata": {},
     "output_type": "execute_result"
    }
   ],
   "source": [
    "from sklearn.metrics import mean_squared_error\n",
    "(np.sqrt(mean_squared_error(data_diamonds['x'],data_diamonds['teste_x'])),\n",
    "np.sqrt(mean_squared_error(data_diamonds['y'],data_diamonds['teste_y'])),\n",
    "np.sqrt(mean_squared_error(data_diamonds['z'],data_diamonds['teste_z'])))"
   ]
  },
  {
   "cell_type": "code",
   "execution_count": 234,
   "id": "c03ab6e7",
   "metadata": {
    "ExecuteTime": {
     "end_time": "2022-07-09T04:38:24.951579Z",
     "start_time": "2022-07-09T04:38:24.942622Z"
    },
    "scrolled": false
   },
   "outputs": [
    {
     "data": {
      "text/plain": [
       "(0.9520510379955596, 0.9027405859706997, 0.907335498500031)"
      ]
     },
     "execution_count": 234,
     "metadata": {},
     "output_type": "execute_result"
    }
   ],
   "source": [
    "from sklearn.metrics import r2_score\n",
    "(r2_score(data_diamonds['x'],data_diamonds['teste_x']),\n",
    "r2_score(data_diamonds['y'],data_diamonds['teste_y']),\n",
    "r2_score(data_diamonds['z'],data_diamonds['teste_z']))"
   ]
  },
  {
   "cell_type": "code",
   "execution_count": 236,
   "id": "31759db9",
   "metadata": {
    "ExecuteTime": {
     "end_time": "2022-07-09T04:38:29.895082Z",
     "start_time": "2022-07-09T04:38:29.889825Z"
    }
   },
   "outputs": [],
   "source": [
    "data_diamonds['new_depth'] = 2*data_diamonds['teste_z']/(data_diamonds['teste_x']+data_diamonds['teste_y'])"
   ]
  },
  {
   "cell_type": "code",
   "execution_count": 237,
   "id": "3711a943",
   "metadata": {
    "ExecuteTime": {
     "end_time": "2022-07-09T04:38:31.980599Z",
     "start_time": "2022-07-09T04:38:31.959562Z"
    },
    "scrolled": true
   },
   "outputs": [
    {
     "data": {
      "text/html": [
       "<div>\n",
       "<style scoped>\n",
       "    .dataframe tbody tr th:only-of-type {\n",
       "        vertical-align: middle;\n",
       "    }\n",
       "\n",
       "    .dataframe tbody tr th {\n",
       "        vertical-align: top;\n",
       "    }\n",
       "\n",
       "    .dataframe thead th {\n",
       "        text-align: right;\n",
       "    }\n",
       "</style>\n",
       "<table border=\"1\" class=\"dataframe\">\n",
       "  <thead>\n",
       "    <tr style=\"text-align: right;\">\n",
       "      <th></th>\n",
       "      <th>carat</th>\n",
       "      <th>cut</th>\n",
       "      <th>color</th>\n",
       "      <th>clarity</th>\n",
       "      <th>depth</th>\n",
       "      <th>table</th>\n",
       "      <th>price</th>\n",
       "      <th>x</th>\n",
       "      <th>y</th>\n",
       "      <th>z</th>\n",
       "      <th>cut_num</th>\n",
       "      <th>color_num</th>\n",
       "      <th>clarity_num</th>\n",
       "      <th>teste_x</th>\n",
       "      <th>teste_y</th>\n",
       "      <th>teste_z</th>\n",
       "      <th>new_depth</th>\n",
       "    </tr>\n",
       "  </thead>\n",
       "  <tbody>\n",
       "    <tr>\n",
       "      <th>0</th>\n",
       "      <td>0.21</td>\n",
       "      <td>Premium</td>\n",
       "      <td>E</td>\n",
       "      <td>SI1</td>\n",
       "      <td>59.8</td>\n",
       "      <td>61.0</td>\n",
       "      <td>326</td>\n",
       "      <td>3.89</td>\n",
       "      <td>3.84</td>\n",
       "      <td>2.31</td>\n",
       "      <td>4</td>\n",
       "      <td>6</td>\n",
       "      <td>3</td>\n",
       "      <td>4.422423</td>\n",
       "      <td>4.427584</td>\n",
       "      <td>2.733046</td>\n",
       "      <td>0.617637</td>\n",
       "    </tr>\n",
       "    <tr>\n",
       "      <th>1</th>\n",
       "      <td>0.23</td>\n",
       "      <td>Good</td>\n",
       "      <td>E</td>\n",
       "      <td>VS1</td>\n",
       "      <td>56.9</td>\n",
       "      <td>65.0</td>\n",
       "      <td>327</td>\n",
       "      <td>4.05</td>\n",
       "      <td>4.07</td>\n",
       "      <td>2.31</td>\n",
       "      <td>2</td>\n",
       "      <td>6</td>\n",
       "      <td>5</td>\n",
       "      <td>4.403645</td>\n",
       "      <td>4.415817</td>\n",
       "      <td>2.755929</td>\n",
       "      <td>0.624965</td>\n",
       "    </tr>\n",
       "    <tr>\n",
       "      <th>2</th>\n",
       "      <td>0.29</td>\n",
       "      <td>Premium</td>\n",
       "      <td>I</td>\n",
       "      <td>VS2</td>\n",
       "      <td>62.4</td>\n",
       "      <td>58.0</td>\n",
       "      <td>334</td>\n",
       "      <td>4.20</td>\n",
       "      <td>4.23</td>\n",
       "      <td>2.63</td>\n",
       "      <td>4</td>\n",
       "      <td>2</td>\n",
       "      <td>4</td>\n",
       "      <td>4.546999</td>\n",
       "      <td>4.552665</td>\n",
       "      <td>2.818392</td>\n",
       "      <td>0.619450</td>\n",
       "    </tr>\n",
       "    <tr>\n",
       "      <th>3</th>\n",
       "      <td>0.31</td>\n",
       "      <td>Good</td>\n",
       "      <td>J</td>\n",
       "      <td>SI2</td>\n",
       "      <td>63.3</td>\n",
       "      <td>58.0</td>\n",
       "      <td>335</td>\n",
       "      <td>4.34</td>\n",
       "      <td>4.35</td>\n",
       "      <td>2.75</td>\n",
       "      <td>2</td>\n",
       "      <td>1</td>\n",
       "      <td>2</td>\n",
       "      <td>4.605310</td>\n",
       "      <td>4.601313</td>\n",
       "      <td>2.890908</td>\n",
       "      <td>0.628006</td>\n",
       "    </tr>\n",
       "    <tr>\n",
       "      <th>4</th>\n",
       "      <td>0.24</td>\n",
       "      <td>Very Good</td>\n",
       "      <td>J</td>\n",
       "      <td>VVS2</td>\n",
       "      <td>62.8</td>\n",
       "      <td>57.0</td>\n",
       "      <td>336</td>\n",
       "      <td>3.94</td>\n",
       "      <td>3.96</td>\n",
       "      <td>2.48</td>\n",
       "      <td>3</td>\n",
       "      <td>1</td>\n",
       "      <td>6</td>\n",
       "      <td>4.369078</td>\n",
       "      <td>4.381975</td>\n",
       "      <td>2.729022</td>\n",
       "      <td>0.623701</td>\n",
       "    </tr>\n",
       "    <tr>\n",
       "      <th>...</th>\n",
       "      <td>...</td>\n",
       "      <td>...</td>\n",
       "      <td>...</td>\n",
       "      <td>...</td>\n",
       "      <td>...</td>\n",
       "      <td>...</td>\n",
       "      <td>...</td>\n",
       "      <td>...</td>\n",
       "      <td>...</td>\n",
       "      <td>...</td>\n",
       "      <td>...</td>\n",
       "      <td>...</td>\n",
       "      <td>...</td>\n",
       "      <td>...</td>\n",
       "      <td>...</td>\n",
       "      <td>...</td>\n",
       "      <td>...</td>\n",
       "    </tr>\n",
       "    <tr>\n",
       "      <th>48935</th>\n",
       "      <td>0.72</td>\n",
       "      <td>Premium</td>\n",
       "      <td>D</td>\n",
       "      <td>SI1</td>\n",
       "      <td>62.7</td>\n",
       "      <td>59.0</td>\n",
       "      <td>2757</td>\n",
       "      <td>5.69</td>\n",
       "      <td>5.73</td>\n",
       "      <td>3.58</td>\n",
       "      <td>4</td>\n",
       "      <td>6</td>\n",
       "      <td>3</td>\n",
       "      <td>5.592073</td>\n",
       "      <td>5.593351</td>\n",
       "      <td>3.448344</td>\n",
       "      <td>0.616578</td>\n",
       "    </tr>\n",
       "    <tr>\n",
       "      <th>48936</th>\n",
       "      <td>0.72</td>\n",
       "      <td>Ideal</td>\n",
       "      <td>D</td>\n",
       "      <td>SI1</td>\n",
       "      <td>60.8</td>\n",
       "      <td>57.0</td>\n",
       "      <td>2757</td>\n",
       "      <td>5.75</td>\n",
       "      <td>5.76</td>\n",
       "      <td>3.50</td>\n",
       "      <td>5</td>\n",
       "      <td>6</td>\n",
       "      <td>3</td>\n",
       "      <td>5.602793</td>\n",
       "      <td>5.604478</td>\n",
       "      <td>3.437670</td>\n",
       "      <td>0.613471</td>\n",
       "    </tr>\n",
       "    <tr>\n",
       "      <th>48937</th>\n",
       "      <td>0.72</td>\n",
       "      <td>Good</td>\n",
       "      <td>D</td>\n",
       "      <td>SI1</td>\n",
       "      <td>63.1</td>\n",
       "      <td>55.0</td>\n",
       "      <td>2757</td>\n",
       "      <td>5.69</td>\n",
       "      <td>5.75</td>\n",
       "      <td>3.61</td>\n",
       "      <td>2</td>\n",
       "      <td>6</td>\n",
       "      <td>3</td>\n",
       "      <td>5.570633</td>\n",
       "      <td>5.571096</td>\n",
       "      <td>3.469693</td>\n",
       "      <td>0.622828</td>\n",
       "    </tr>\n",
       "    <tr>\n",
       "      <th>48938</th>\n",
       "      <td>0.70</td>\n",
       "      <td>Very Good</td>\n",
       "      <td>D</td>\n",
       "      <td>SI1</td>\n",
       "      <td>62.8</td>\n",
       "      <td>60.0</td>\n",
       "      <td>2757</td>\n",
       "      <td>5.66</td>\n",
       "      <td>5.68</td>\n",
       "      <td>3.56</td>\n",
       "      <td>3</td>\n",
       "      <td>6</td>\n",
       "      <td>3</td>\n",
       "      <td>5.535484</td>\n",
       "      <td>5.536507</td>\n",
       "      <td>3.430968</td>\n",
       "      <td>0.619756</td>\n",
       "    </tr>\n",
       "    <tr>\n",
       "      <th>48939</th>\n",
       "      <td>0.75</td>\n",
       "      <td>Ideal</td>\n",
       "      <td>D</td>\n",
       "      <td>SI2</td>\n",
       "      <td>62.2</td>\n",
       "      <td>55.0</td>\n",
       "      <td>2757</td>\n",
       "      <td>5.83</td>\n",
       "      <td>5.87</td>\n",
       "      <td>3.64</td>\n",
       "      <td>5</td>\n",
       "      <td>6</td>\n",
       "      <td>2</td>\n",
       "      <td>5.693199</td>\n",
       "      <td>5.690667</td>\n",
       "      <td>3.493005</td>\n",
       "      <td>0.613676</td>\n",
       "    </tr>\n",
       "  </tbody>\n",
       "</table>\n",
       "<p>48940 rows × 17 columns</p>\n",
       "</div>"
      ],
      "text/plain": [
       "       carat        cut color clarity  depth  table  price     x     y     z  \\\n",
       "0       0.21    Premium     E     SI1   59.8   61.0    326  3.89  3.84  2.31   \n",
       "1       0.23       Good     E     VS1   56.9   65.0    327  4.05  4.07  2.31   \n",
       "2       0.29    Premium     I     VS2   62.4   58.0    334  4.20  4.23  2.63   \n",
       "3       0.31       Good     J     SI2   63.3   58.0    335  4.34  4.35  2.75   \n",
       "4       0.24  Very Good     J    VVS2   62.8   57.0    336  3.94  3.96  2.48   \n",
       "...      ...        ...   ...     ...    ...    ...    ...   ...   ...   ...   \n",
       "48935   0.72    Premium     D     SI1   62.7   59.0   2757  5.69  5.73  3.58   \n",
       "48936   0.72      Ideal     D     SI1   60.8   57.0   2757  5.75  5.76  3.50   \n",
       "48937   0.72       Good     D     SI1   63.1   55.0   2757  5.69  5.75  3.61   \n",
       "48938   0.70  Very Good     D     SI1   62.8   60.0   2757  5.66  5.68  3.56   \n",
       "48939   0.75      Ideal     D     SI2   62.2   55.0   2757  5.83  5.87  3.64   \n",
       "\n",
       "       cut_num  color_num  clarity_num   teste_x   teste_y   teste_z  \\\n",
       "0            4          6            3  4.422423  4.427584  2.733046   \n",
       "1            2          6            5  4.403645  4.415817  2.755929   \n",
       "2            4          2            4  4.546999  4.552665  2.818392   \n",
       "3            2          1            2  4.605310  4.601313  2.890908   \n",
       "4            3          1            6  4.369078  4.381975  2.729022   \n",
       "...        ...        ...          ...       ...       ...       ...   \n",
       "48935        4          6            3  5.592073  5.593351  3.448344   \n",
       "48936        5          6            3  5.602793  5.604478  3.437670   \n",
       "48937        2          6            3  5.570633  5.571096  3.469693   \n",
       "48938        3          6            3  5.535484  5.536507  3.430968   \n",
       "48939        5          6            2  5.693199  5.690667  3.493005   \n",
       "\n",
       "       new_depth  \n",
       "0       0.617637  \n",
       "1       0.624965  \n",
       "2       0.619450  \n",
       "3       0.628006  \n",
       "4       0.623701  \n",
       "...          ...  \n",
       "48935   0.616578  \n",
       "48936   0.613471  \n",
       "48937   0.622828  \n",
       "48938   0.619756  \n",
       "48939   0.613676  \n",
       "\n",
       "[48940 rows x 17 columns]"
      ]
     },
     "execution_count": 237,
     "metadata": {},
     "output_type": "execute_result"
    }
   ],
   "source": [
    "data_diamonds"
   ]
  },
  {
   "cell_type": "code",
   "execution_count": 240,
   "id": "4b1e450e",
   "metadata": {
    "ExecuteTime": {
     "end_time": "2022-07-09T04:39:07.503645Z",
     "start_time": "2022-07-09T04:39:07.493159Z"
    }
   },
   "outputs": [],
   "source": [
    "from sklearn.linear_model import LinearRegression\n",
    "\n",
    "X=data_rick_diamonds[['carat','cut_num','color_num','clarity_num']]\n",
    "y=data_rick_diamonds['y']\n",
    "\n",
    "model = LinearRegression()\n",
    "model.fit(X,y)\n",
    "data_rick_diamonds['teste_y'] = model.predict(X)"
   ]
  },
  {
   "cell_type": "code",
   "execution_count": 241,
   "id": "72e6ae56",
   "metadata": {
    "ExecuteTime": {
     "end_time": "2022-07-09T04:39:08.563125Z",
     "start_time": "2022-07-09T04:39:08.554476Z"
    }
   },
   "outputs": [
    {
     "data": {
      "text/plain": [
       "(0.24790188390489504, 0.2550856852857198, 0.16933985487031347)"
      ]
     },
     "execution_count": 241,
     "metadata": {},
     "output_type": "execute_result"
    }
   ],
   "source": [
    "from sklearn.metrics import mean_squared_error\n",
    "(np.sqrt(mean_squared_error(data_rick_diamonds['x'],data_rick_diamonds['teste_x'])),\n",
    "np.sqrt(mean_squared_error(data_rick_diamonds['y'],data_rick_diamonds['teste_y'])),\n",
    "np.sqrt(mean_squared_error(data_rick_diamonds['z'],data_rick_diamonds['teste_z'])))"
   ]
  },
  {
   "cell_type": "code",
   "execution_count": 242,
   "id": "18b6e6bd",
   "metadata": {
    "ExecuteTime": {
     "end_time": "2022-07-09T04:39:09.722597Z",
     "start_time": "2022-07-09T04:39:09.714286Z"
    }
   },
   "outputs": [
    {
     "data": {
      "text/plain": [
       "(0.9510246276247014, 0.9472110370201694, 0.9405749263906935)"
      ]
     },
     "execution_count": 242,
     "metadata": {},
     "output_type": "execute_result"
    }
   ],
   "source": [
    "from sklearn.metrics import r2_score\n",
    "(r2_score(data_rick_diamonds['x'],data_rick_diamonds['teste_x']),\n",
    "r2_score(data_rick_diamonds['y'],data_rick_diamonds['teste_y']),\n",
    "r2_score(data_rick_diamonds['z'],data_rick_diamonds['teste_z']))"
   ]
  },
  {
   "cell_type": "code",
   "execution_count": 243,
   "id": "0d20e5a6",
   "metadata": {
    "ExecuteTime": {
     "end_time": "2022-07-09T04:39:11.078132Z",
     "start_time": "2022-07-09T04:39:11.073887Z"
    }
   },
   "outputs": [],
   "source": [
    "data_rick_diamonds['new_depth'] = 2*data_rick_diamonds['teste_z']/(data_rick_diamonds['teste_x']+data_rick_diamonds['teste_y'])"
   ]
  },
  {
   "cell_type": "code",
   "execution_count": 244,
   "id": "71f76138",
   "metadata": {
    "ExecuteTime": {
     "end_time": "2022-07-09T04:39:11.884367Z",
     "start_time": "2022-07-09T04:39:11.863674Z"
    }
   },
   "outputs": [
    {
     "data": {
      "text/html": [
       "<div>\n",
       "<style scoped>\n",
       "    .dataframe tbody tr th:only-of-type {\n",
       "        vertical-align: middle;\n",
       "    }\n",
       "\n",
       "    .dataframe tbody tr th {\n",
       "        vertical-align: top;\n",
       "    }\n",
       "\n",
       "    .dataframe thead th {\n",
       "        text-align: right;\n",
       "    }\n",
       "</style>\n",
       "<table border=\"1\" class=\"dataframe\">\n",
       "  <thead>\n",
       "    <tr style=\"text-align: right;\">\n",
       "      <th></th>\n",
       "      <th>carat</th>\n",
       "      <th>cut</th>\n",
       "      <th>color</th>\n",
       "      <th>clarity</th>\n",
       "      <th>depth</th>\n",
       "      <th>table</th>\n",
       "      <th>x</th>\n",
       "      <th>y</th>\n",
       "      <th>z</th>\n",
       "      <th>price_predicted</th>\n",
       "      <th>cut_num</th>\n",
       "      <th>color_num</th>\n",
       "      <th>clarity_num</th>\n",
       "      <th>teste_x</th>\n",
       "      <th>teste_y</th>\n",
       "      <th>teste_z</th>\n",
       "      <th>new_depth</th>\n",
       "    </tr>\n",
       "  </thead>\n",
       "  <tbody>\n",
       "    <tr>\n",
       "      <th>0</th>\n",
       "      <td>0.91</td>\n",
       "      <td>Very Good</td>\n",
       "      <td>H</td>\n",
       "      <td>SI2</td>\n",
       "      <td>63.4</td>\n",
       "      <td>57.0</td>\n",
       "      <td>6.10</td>\n",
       "      <td>6.18</td>\n",
       "      <td>3.89</td>\n",
       "      <td>2516.308226</td>\n",
       "      <td>3</td>\n",
       "      <td>3</td>\n",
       "      <td>2</td>\n",
       "      <td>6.017262</td>\n",
       "      <td>6.009552</td>\n",
       "      <td>3.730001</td>\n",
       "      <td>0.620281</td>\n",
       "    </tr>\n",
       "    <tr>\n",
       "      <th>1</th>\n",
       "      <td>0.38</td>\n",
       "      <td>Good</td>\n",
       "      <td>F</td>\n",
       "      <td>VS2</td>\n",
       "      <td>60.3</td>\n",
       "      <td>61.0</td>\n",
       "      <td>4.68</td>\n",
       "      <td>4.71</td>\n",
       "      <td>2.83</td>\n",
       "      <td>-8516.140491</td>\n",
       "      <td>2</td>\n",
       "      <td>5</td>\n",
       "      <td>4</td>\n",
       "      <td>4.753170</td>\n",
       "      <td>4.764884</td>\n",
       "      <td>2.965516</td>\n",
       "      <td>0.623135</td>\n",
       "    </tr>\n",
       "    <tr>\n",
       "      <th>2</th>\n",
       "      <td>0.52</td>\n",
       "      <td>Ideal</td>\n",
       "      <td>H</td>\n",
       "      <td>VS2</td>\n",
       "      <td>61.8</td>\n",
       "      <td>56.0</td>\n",
       "      <td>5.19</td>\n",
       "      <td>5.16</td>\n",
       "      <td>3.20</td>\n",
       "      <td>-5153.967895</td>\n",
       "      <td>5</td>\n",
       "      <td>3</td>\n",
       "      <td>4</td>\n",
       "      <td>5.105249</td>\n",
       "      <td>5.109833</td>\n",
       "      <td>3.137657</td>\n",
       "      <td>0.614318</td>\n",
       "    </tr>\n",
       "    <tr>\n",
       "      <th>3</th>\n",
       "      <td>1.10</td>\n",
       "      <td>Ideal</td>\n",
       "      <td>G</td>\n",
       "      <td>VS1</td>\n",
       "      <td>61.3</td>\n",
       "      <td>56.0</td>\n",
       "      <td>6.65</td>\n",
       "      <td>6.69</td>\n",
       "      <td>4.09</td>\n",
       "      <td>8566.421708</td>\n",
       "      <td>5</td>\n",
       "      <td>4</td>\n",
       "      <td>5</td>\n",
       "      <td>6.415009</td>\n",
       "      <td>6.411426</td>\n",
       "      <td>3.938822</td>\n",
       "      <td>0.614172</td>\n",
       "    </tr>\n",
       "    <tr>\n",
       "      <th>4</th>\n",
       "      <td>2.28</td>\n",
       "      <td>Ideal</td>\n",
       "      <td>G</td>\n",
       "      <td>SI2</td>\n",
       "      <td>61.6</td>\n",
       "      <td>57.0</td>\n",
       "      <td>8.44</td>\n",
       "      <td>8.37</td>\n",
       "      <td>5.18</td>\n",
       "      <td>27266.420592</td>\n",
       "      <td>5</td>\n",
       "      <td>4</td>\n",
       "      <td>2</td>\n",
       "      <td>9.188827</td>\n",
       "      <td>9.152112</td>\n",
       "      <td>5.641560</td>\n",
       "      <td>0.615188</td>\n",
       "    </tr>\n",
       "    <tr>\n",
       "      <th>...</th>\n",
       "      <td>...</td>\n",
       "      <td>...</td>\n",
       "      <td>...</td>\n",
       "      <td>...</td>\n",
       "      <td>...</td>\n",
       "      <td>...</td>\n",
       "      <td>...</td>\n",
       "      <td>...</td>\n",
       "      <td>...</td>\n",
       "      <td>...</td>\n",
       "      <td>...</td>\n",
       "      <td>...</td>\n",
       "      <td>...</td>\n",
       "      <td>...</td>\n",
       "      <td>...</td>\n",
       "      <td>...</td>\n",
       "      <td>...</td>\n",
       "    </tr>\n",
       "    <tr>\n",
       "      <th>4995</th>\n",
       "      <td>0.30</td>\n",
       "      <td>Very Good</td>\n",
       "      <td>D</td>\n",
       "      <td>SI2</td>\n",
       "      <td>62.2</td>\n",
       "      <td>59.0</td>\n",
       "      <td>4.25</td>\n",
       "      <td>4.30</td>\n",
       "      <td>2.66</td>\n",
       "      <td>-11230.332024</td>\n",
       "      <td>3</td>\n",
       "      <td>6</td>\n",
       "      <td>2</td>\n",
       "      <td>4.638797</td>\n",
       "      <td>4.646488</td>\n",
       "      <td>2.877493</td>\n",
       "      <td>0.619796</td>\n",
       "    </tr>\n",
       "    <tr>\n",
       "      <th>4996</th>\n",
       "      <td>0.51</td>\n",
       "      <td>Ideal</td>\n",
       "      <td>F</td>\n",
       "      <td>VVS2</td>\n",
       "      <td>61.9</td>\n",
       "      <td>56.0</td>\n",
       "      <td>5.09</td>\n",
       "      <td>5.14</td>\n",
       "      <td>3.16</td>\n",
       "      <td>-3671.313663</td>\n",
       "      <td>5</td>\n",
       "      <td>5</td>\n",
       "      <td>6</td>\n",
       "      <td>5.046178</td>\n",
       "      <td>5.058634</td>\n",
       "      <td>3.096438</td>\n",
       "      <td>0.612864</td>\n",
       "    </tr>\n",
       "    <tr>\n",
       "      <th>4997</th>\n",
       "      <td>1.01</td>\n",
       "      <td>Very Good</td>\n",
       "      <td>F</td>\n",
       "      <td>SI1</td>\n",
       "      <td>60.6</td>\n",
       "      <td>60.0</td>\n",
       "      <td>6.37</td>\n",
       "      <td>6.43</td>\n",
       "      <td>3.88</td>\n",
       "      <td>5827.452070</td>\n",
       "      <td>3</td>\n",
       "      <td>5</td>\n",
       "      <td>3</td>\n",
       "      <td>6.234135</td>\n",
       "      <td>6.229115</td>\n",
       "      <td>3.858351</td>\n",
       "      <td>0.619156</td>\n",
       "    </tr>\n",
       "    <tr>\n",
       "      <th>4998</th>\n",
       "      <td>0.31</td>\n",
       "      <td>Ideal</td>\n",
       "      <td>F</td>\n",
       "      <td>VVS1</td>\n",
       "      <td>62.1</td>\n",
       "      <td>56.0</td>\n",
       "      <td>4.35</td>\n",
       "      <td>4.38</td>\n",
       "      <td>2.71</td>\n",
       "      <td>-8512.015310</td>\n",
       "      <td>5</td>\n",
       "      <td>5</td>\n",
       "      <td>7</td>\n",
       "      <td>4.564188</td>\n",
       "      <td>4.583689</td>\n",
       "      <td>2.800442</td>\n",
       "      <td>0.612261</td>\n",
       "    </tr>\n",
       "    <tr>\n",
       "      <th>4999</th>\n",
       "      <td>0.33</td>\n",
       "      <td>Ideal</td>\n",
       "      <td>E</td>\n",
       "      <td>VS2</td>\n",
       "      <td>61.8</td>\n",
       "      <td>55.0</td>\n",
       "      <td>4.45</td>\n",
       "      <td>4.48</td>\n",
       "      <td>2.76</td>\n",
       "      <td>-9088.193554</td>\n",
       "      <td>5</td>\n",
       "      <td>6</td>\n",
       "      <td>4</td>\n",
       "      <td>4.688330</td>\n",
       "      <td>4.699625</td>\n",
       "      <td>2.875141</td>\n",
       "      <td>0.612517</td>\n",
       "    </tr>\n",
       "  </tbody>\n",
       "</table>\n",
       "<p>5000 rows × 17 columns</p>\n",
       "</div>"
      ],
      "text/plain": [
       "      carat        cut color clarity  depth  table     x     y     z  \\\n",
       "0      0.91  Very Good     H     SI2   63.4   57.0  6.10  6.18  3.89   \n",
       "1      0.38       Good     F     VS2   60.3   61.0  4.68  4.71  2.83   \n",
       "2      0.52      Ideal     H     VS2   61.8   56.0  5.19  5.16  3.20   \n",
       "3      1.10      Ideal     G     VS1   61.3   56.0  6.65  6.69  4.09   \n",
       "4      2.28      Ideal     G     SI2   61.6   57.0  8.44  8.37  5.18   \n",
       "...     ...        ...   ...     ...    ...    ...   ...   ...   ...   \n",
       "4995   0.30  Very Good     D     SI2   62.2   59.0  4.25  4.30  2.66   \n",
       "4996   0.51      Ideal     F    VVS2   61.9   56.0  5.09  5.14  3.16   \n",
       "4997   1.01  Very Good     F     SI1   60.6   60.0  6.37  6.43  3.88   \n",
       "4998   0.31      Ideal     F    VVS1   62.1   56.0  4.35  4.38  2.71   \n",
       "4999   0.33      Ideal     E     VS2   61.8   55.0  4.45  4.48  2.76   \n",
       "\n",
       "      price_predicted  cut_num  color_num  clarity_num   teste_x   teste_y  \\\n",
       "0         2516.308226        3          3            2  6.017262  6.009552   \n",
       "1        -8516.140491        2          5            4  4.753170  4.764884   \n",
       "2        -5153.967895        5          3            4  5.105249  5.109833   \n",
       "3         8566.421708        5          4            5  6.415009  6.411426   \n",
       "4        27266.420592        5          4            2  9.188827  9.152112   \n",
       "...               ...      ...        ...          ...       ...       ...   \n",
       "4995    -11230.332024        3          6            2  4.638797  4.646488   \n",
       "4996     -3671.313663        5          5            6  5.046178  5.058634   \n",
       "4997      5827.452070        3          5            3  6.234135  6.229115   \n",
       "4998     -8512.015310        5          5            7  4.564188  4.583689   \n",
       "4999     -9088.193554        5          6            4  4.688330  4.699625   \n",
       "\n",
       "       teste_z  new_depth  \n",
       "0     3.730001   0.620281  \n",
       "1     2.965516   0.623135  \n",
       "2     3.137657   0.614318  \n",
       "3     3.938822   0.614172  \n",
       "4     5.641560   0.615188  \n",
       "...        ...        ...  \n",
       "4995  2.877493   0.619796  \n",
       "4996  3.096438   0.612864  \n",
       "4997  3.858351   0.619156  \n",
       "4998  2.800442   0.612261  \n",
       "4999  2.875141   0.612517  \n",
       "\n",
       "[5000 rows x 17 columns]"
      ]
     },
     "execution_count": 244,
     "metadata": {},
     "output_type": "execute_result"
    }
   ],
   "source": [
    "data_rick_diamonds"
   ]
  },
  {
   "cell_type": "code",
   "execution_count": null,
   "id": "423591fe",
   "metadata": {},
   "outputs": [],
   "source": []
  },
  {
   "cell_type": "code",
   "execution_count": 104,
   "id": "d7d648ae",
   "metadata": {
    "ExecuteTime": {
     "end_time": "2022-07-09T03:50:16.607711Z",
     "start_time": "2022-07-09T03:50:16.380942Z"
    }
   },
   "outputs": [
    {
     "data": {
      "text/plain": [
       "<AxesSubplot:xlabel='clarity_num', ylabel='carat'>"
      ]
     },
     "execution_count": 104,
     "metadata": {},
     "output_type": "execute_result"
    },
    {
     "data": {
      "image/png": "[encoded data removed]",
      "text/plain": [
       "<Figure size 432x288 with 1 Axes>"
      ]
     },
     "metadata": {
      "needs_background": "light"
     },
     "output_type": "display_data"
    }
   ],
   "source": [
    "sns.boxplot(x='clarity_num',y='carat',data=data_diamonds)"
   ]
  },
  {
   "cell_type": "code",
   "execution_count": 245,
   "id": "c4f03733",
   "metadata": {
    "ExecuteTime": {
     "end_time": "2022-07-09T04:39:15.501103Z",
     "start_time": "2022-07-09T04:39:15.486084Z"
    }
   },
   "outputs": [
    {
     "data": {
      "text/plain": [
       "LinearRegression()"
      ]
     },
     "execution_count": 245,
     "metadata": {},
     "output_type": "execute_result"
    }
   ],
   "source": [
    "from sklearn.linear_model import LinearRegression\n",
    "\n",
    "X=data_diamonds[['carat','new_depth','cut_num','color_num','clarity_num']]\n",
    "y=data_diamonds['price']\n",
    "\n",
    "model = LinearRegression()\n",
    "model.fit(X,y)"
   ]
  },
  {
   "cell_type": "code",
   "execution_count": 246,
   "id": "a9d75487",
   "metadata": {
    "ExecuteTime": {
     "end_time": "2022-07-09T04:39:15.867880Z",
     "start_time": "2022-07-09T04:39:15.861189Z"
    }
   },
   "outputs": [],
   "source": [
    "data_rick_diamonds['price_predicted'] = model.predict(data_rick_diamonds[['carat','new_depth','cut_num','color_num','clarity_num']])"
   ]
  },
  {
   "cell_type": "code",
   "execution_count": 247,
   "id": "5a0856e1",
   "metadata": {
    "ExecuteTime": {
     "end_time": "2022-07-09T04:39:16.260946Z",
     "start_time": "2022-07-09T04:39:16.193007Z"
    }
   },
   "outputs": [],
   "source": [
    "data_rick_diamonds.to_csv('diamond_model2.csv', index=False)\n",
    "#Your root mean squared error is 1291.9973166099717"
   ]
  },
  {
   "cell_type": "code",
   "execution_count": null,
   "id": "161fe030",
   "metadata": {},
   "outputs": [],
   "source": []
  }
 ],
 "metadata": {
  "kernelspec": {
   "display_name": "Python 3 (ipykernel)",
   "language": "python",
   "name": "python3"
  },
  "language_info": {
   "codemirror_mode": {
    "name": "ipython",
    "version": 3
   },
   "file_extension": ".py",
   "mimetype": "text/x-python",
   "name": "python",
   "nbconvert_exporter": "python",
   "pygments_lexer": "ipython3",
   "version": "3.9.12"
  },
  "toc": {
   "base_numbering": 1,
   "nav_menu": {},
   "number_sections": true,
   "sideBar": true,
   "skip_h1_title": false,
   "title_cell": "Table of Contents",
   "title_sidebar": "Contents",
   "toc_cell": false,
   "toc_position": {},
   "toc_section_display": true,
   "toc_window_display": false
  },
  "varInspector": {
   "cols": {
    "lenName": 16,
    "lenType": 16,
    "lenVar": 40
   },
   "kernels_config": {
    "python": {
     "delete_cmd_postfix": "",
     "delete_cmd_prefix": "del ",
     "library": "var_list.py",
     "varRefreshCmd": "print(var_dic_list())"
    },
    "r": {
     "delete_cmd_postfix": ") ",
     "delete_cmd_prefix": "rm(",
     "library": "var_list.r",
     "varRefreshCmd": "cat(var_dic_list()) "
    }
   },
   "types_to_exclude": [
    "module",
    "function",
    "builtin_function_or_method",
    "instance",
    "_Feature"
   ],
   "window_display": false
  }
 },
 "nbformat": 4,
 "nbformat_minor": 5
}
